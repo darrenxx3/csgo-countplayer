{
 "cells": [
  {
   "attachments": {},
   "cell_type": "markdown",
   "metadata": {},
   "source": [
    "# ARIMA\n",
    "#### by Christopher Darren 00000054804"
   ]
  },
  {
   "attachments": {},
   "cell_type": "markdown",
   "metadata": {},
   "source": [
    "### Importing Libraries 📚"
   ]
  },
  {
   "cell_type": "code",
   "execution_count": 1,
   "metadata": {},
   "outputs": [],
   "source": [
    "import pandas as pd\n",
    "import numpy as np\n",
    "import seaborn as sns\n",
    "import matplotlib.pyplot as plt\n",
    "import statsmodels.api as sm\n",
    "from statsmodels.tsa.stattools import adfuller\n",
    "from statsmodels.tsa.seasonal import seasonal_decompose\n",
    "from statsmodels.tsa.stattools import acf, pacf\n",
    "from statsmodels.graphics.tsaplots import plot_acf, plot_pacf\n",
    "from statsmodels.tsa.arima.model import ARIMA"
   ]
  },
  {
   "cell_type": "code",
   "execution_count": 2,
   "metadata": {},
   "outputs": [
    {
     "name": "stdout",
     "output_type": "stream",
     "text": [
      "0.12.2\n"
     ]
    }
   ],
   "source": [
    "print(sns.__version__)"
   ]
  },
  {
   "attachments": {},
   "cell_type": "markdown",
   "metadata": {},
   "source": [
    "### Data Understanding 👓"
   ]
  },
  {
   "cell_type": "code",
   "execution_count": 71,
   "metadata": {},
   "outputs": [
    {
     "data": {
      "text/html": [
       "<div>\n",
       "<style scoped>\n",
       "    .dataframe tbody tr th:only-of-type {\n",
       "        vertical-align: middle;\n",
       "    }\n",
       "\n",
       "    .dataframe tbody tr th {\n",
       "        vertical-align: top;\n",
       "    }\n",
       "\n",
       "    .dataframe thead th {\n",
       "        text-align: right;\n",
       "    }\n",
       "</style>\n",
       "<table border=\"1\" class=\"dataframe\">\n",
       "  <thead>\n",
       "    <tr style=\"text-align: right;\">\n",
       "      <th></th>\n",
       "      <th>Players</th>\n",
       "      <th>Average Players</th>\n",
       "    </tr>\n",
       "    <tr>\n",
       "      <th>DateTime</th>\n",
       "      <th></th>\n",
       "      <th></th>\n",
       "    </tr>\n",
       "  </thead>\n",
       "  <tbody>\n",
       "    <tr>\n",
       "      <th>2011-11-30</th>\n",
       "      <td>680.0</td>\n",
       "      <td>NaN</td>\n",
       "    </tr>\n",
       "    <tr>\n",
       "      <th>2011-12-01</th>\n",
       "      <td>NaN</td>\n",
       "      <td>NaN</td>\n",
       "    </tr>\n",
       "    <tr>\n",
       "      <th>2011-12-02</th>\n",
       "      <td>NaN</td>\n",
       "      <td>NaN</td>\n",
       "    </tr>\n",
       "    <tr>\n",
       "      <th>2011-12-03</th>\n",
       "      <td>NaN</td>\n",
       "      <td>NaN</td>\n",
       "    </tr>\n",
       "    <tr>\n",
       "      <th>2011-12-04</th>\n",
       "      <td>NaN</td>\n",
       "      <td>NaN</td>\n",
       "    </tr>\n",
       "  </tbody>\n",
       "</table>\n",
       "</div>"
      ],
      "text/plain": [
       "            Players  Average Players\n",
       "DateTime                            \n",
       "2011-11-30    680.0              NaN\n",
       "2011-12-01      NaN              NaN\n",
       "2011-12-02      NaN              NaN\n",
       "2011-12-03      NaN              NaN\n",
       "2011-12-04      NaN              NaN"
      ]
     },
     "execution_count": 71,
     "metadata": {},
     "output_type": "execute_result"
    }
   ],
   "source": [
    "df = pd.read_csv('./dataset/playerdata.csv', index_col=['DateTime'], parse_dates=['DateTime'])\n",
    "df.head(5)"
   ]
  },
  {
   "cell_type": "code",
   "execution_count": 72,
   "metadata": {},
   "outputs": [
    {
     "name": "stdout",
     "output_type": "stream",
     "text": [
      "<class 'pandas.core.frame.DataFrame'>\n",
      "DatetimeIndex: 4293 entries, 2011-11-30 to 2023-08-31\n",
      "Data columns (total 2 columns):\n",
      " #   Column           Non-Null Count  Dtype  \n",
      "---  ------           --------------  -----  \n",
      " 0   Players          4130 non-null   float64\n",
      " 1   Average Players  343 non-null    float64\n",
      "dtypes: float64(2)\n",
      "memory usage: 100.6 KB\n"
     ]
    }
   ],
   "source": [
    "df.info()"
   ]
  },
  {
   "cell_type": "code",
   "execution_count": 73,
   "metadata": {},
   "outputs": [
    {
     "data": {
      "text/html": [
       "<div>\n",
       "<style scoped>\n",
       "    .dataframe tbody tr th:only-of-type {\n",
       "        vertical-align: middle;\n",
       "    }\n",
       "\n",
       "    .dataframe tbody tr th {\n",
       "        vertical-align: top;\n",
       "    }\n",
       "\n",
       "    .dataframe thead th {\n",
       "        text-align: right;\n",
       "    }\n",
       "</style>\n",
       "<table border=\"1\" class=\"dataframe\">\n",
       "  <thead>\n",
       "    <tr style=\"text-align: right;\">\n",
       "      <th></th>\n",
       "      <th>Players</th>\n",
       "      <th>Average Players</th>\n",
       "    </tr>\n",
       "  </thead>\n",
       "  <tbody>\n",
       "    <tr>\n",
       "      <th>count</th>\n",
       "      <td>4.130000e+03</td>\n",
       "      <td>3.430000e+02</td>\n",
       "    </tr>\n",
       "    <tr>\n",
       "      <th>mean</th>\n",
       "      <td>5.824735e+05</td>\n",
       "      <td>8.267761e+05</td>\n",
       "    </tr>\n",
       "    <tr>\n",
       "      <th>std</th>\n",
       "      <td>3.644661e+05</td>\n",
       "      <td>1.822924e+05</td>\n",
       "    </tr>\n",
       "    <tr>\n",
       "      <th>min</th>\n",
       "      <td>2.040000e+02</td>\n",
       "      <td>5.401400e+05</td>\n",
       "    </tr>\n",
       "    <tr>\n",
       "      <th>25%</th>\n",
       "      <td>3.720188e+05</td>\n",
       "      <td>6.752670e+05</td>\n",
       "    </tr>\n",
       "    <tr>\n",
       "      <th>50%</th>\n",
       "      <td>5.888870e+05</td>\n",
       "      <td>8.309250e+05</td>\n",
       "    </tr>\n",
       "    <tr>\n",
       "      <th>75%</th>\n",
       "      <td>8.322902e+05</td>\n",
       "      <td>9.347175e+05</td>\n",
       "    </tr>\n",
       "    <tr>\n",
       "      <th>max</th>\n",
       "      <td>1.818773e+06</td>\n",
       "      <td>1.306150e+06</td>\n",
       "    </tr>\n",
       "  </tbody>\n",
       "</table>\n",
       "</div>"
      ],
      "text/plain": [
       "            Players  Average Players\n",
       "count  4.130000e+03     3.430000e+02\n",
       "mean   5.824735e+05     8.267761e+05\n",
       "std    3.644661e+05     1.822924e+05\n",
       "min    2.040000e+02     5.401400e+05\n",
       "25%    3.720188e+05     6.752670e+05\n",
       "50%    5.888870e+05     8.309250e+05\n",
       "75%    8.322902e+05     9.347175e+05\n",
       "max    1.818773e+06     1.306150e+06"
      ]
     },
     "execution_count": 73,
     "metadata": {},
     "output_type": "execute_result"
    }
   ],
   "source": [
    "df.describe()"
   ]
  },
  {
   "cell_type": "code",
   "execution_count": 74,
   "metadata": {},
   "outputs": [
    {
     "data": {
      "text/plain": [
       "(4293, 2)"
      ]
     },
     "execution_count": 74,
     "metadata": {},
     "output_type": "execute_result"
    }
   ],
   "source": [
    "df.shape"
   ]
  },
  {
   "cell_type": "code",
   "execution_count": 57,
   "metadata": {},
   "outputs": [],
   "source": [
    "# df['DateTime'] = pd.to_datetime(df['DateTime'])"
   ]
  },
  {
   "cell_type": "code",
   "execution_count": 69,
   "metadata": {},
   "outputs": [],
   "source": [
    "# df['DateTime'] = df['DateTime'].dt.date\n"
   ]
  },
  {
   "cell_type": "code",
   "execution_count": 70,
   "metadata": {},
   "outputs": [
    {
     "ename": "TypeError",
     "evalue": "'>=' not supported between instances of 'datetime.date' and 'str'",
     "output_type": "error",
     "traceback": [
      "\u001b[1;31m---------------------------------------------------------------------------\u001b[0m",
      "\u001b[1;31mTypeError\u001b[0m                                 Traceback (most recent call last)",
      "\u001b[1;32md:\\SEMESTER 5\\IS MRSI\\csgohehe\\csgo-countplayer\\code.ipynb Cell 13\u001b[0m in \u001b[0;36m<cell line: 2>\u001b[1;34m()\u001b[0m\n\u001b[0;32m      <a href='vscode-notebook-cell:/d%3A/SEMESTER%205/IS%20MRSI/csgohehe/csgo-countplayer/code.ipynb#Y100sZmlsZQ%3D%3D?line=0'>1</a>\u001b[0m cutoff_date \u001b[39m=\u001b[39m \u001b[39m\"\u001b[39m\u001b[39m2019-01-01 00:00:00\u001b[39m\u001b[39m\"\u001b[39m\n\u001b[1;32m----> <a href='vscode-notebook-cell:/d%3A/SEMESTER%205/IS%20MRSI/csgohehe/csgo-countplayer/code.ipynb#Y100sZmlsZQ%3D%3D?line=1'>2</a>\u001b[0m df \u001b[39m=\u001b[39m df\u001b[39m.\u001b[39mloc[df[\u001b[39m\"\u001b[39;49m\u001b[39mDateTime\u001b[39;49m\u001b[39m\"\u001b[39;49m] \u001b[39m>\u001b[39;49m\u001b[39m=\u001b[39;49m cutoff_date]\n",
      "File \u001b[1;32m~\\AppData\\Roaming\\Python\\Python39\\site-packages\\pandas\\core\\ops\\common.py:81\u001b[0m, in \u001b[0;36m_unpack_zerodim_and_defer.<locals>.new_method\u001b[1;34m(self, other)\u001b[0m\n\u001b[0;32m     77\u001b[0m             \u001b[39mreturn\u001b[39;00m \u001b[39mNotImplemented\u001b[39m\n\u001b[0;32m     79\u001b[0m other \u001b[39m=\u001b[39m item_from_zerodim(other)\n\u001b[1;32m---> 81\u001b[0m \u001b[39mreturn\u001b[39;00m method(\u001b[39mself\u001b[39;49m, other)\n",
      "File \u001b[1;32m~\\AppData\\Roaming\\Python\\Python39\\site-packages\\pandas\\core\\arraylike.py:60\u001b[0m, in \u001b[0;36mOpsMixin.__ge__\u001b[1;34m(self, other)\u001b[0m\n\u001b[0;32m     58\u001b[0m \u001b[39m@unpack_zerodim_and_defer\u001b[39m(\u001b[39m\"\u001b[39m\u001b[39m__ge__\u001b[39m\u001b[39m\"\u001b[39m)\n\u001b[0;32m     59\u001b[0m \u001b[39mdef\u001b[39;00m \u001b[39m__ge__\u001b[39m(\u001b[39mself\u001b[39m, other):\n\u001b[1;32m---> 60\u001b[0m     \u001b[39mreturn\u001b[39;00m \u001b[39mself\u001b[39;49m\u001b[39m.\u001b[39;49m_cmp_method(other, operator\u001b[39m.\u001b[39;49mge)\n",
      "File \u001b[1;32m~\\AppData\\Roaming\\Python\\Python39\\site-packages\\pandas\\core\\series.py:6092\u001b[0m, in \u001b[0;36mSeries._cmp_method\u001b[1;34m(self, other, op)\u001b[0m\n\u001b[0;32m   6089\u001b[0m rvalues \u001b[39m=\u001b[39m extract_array(other, extract_numpy\u001b[39m=\u001b[39m\u001b[39mTrue\u001b[39;00m, extract_range\u001b[39m=\u001b[39m\u001b[39mTrue\u001b[39;00m)\n\u001b[0;32m   6091\u001b[0m \u001b[39mwith\u001b[39;00m np\u001b[39m.\u001b[39merrstate(\u001b[39mall\u001b[39m\u001b[39m=\u001b[39m\u001b[39m\"\u001b[39m\u001b[39mignore\u001b[39m\u001b[39m\"\u001b[39m):\n\u001b[1;32m-> 6092\u001b[0m     res_values \u001b[39m=\u001b[39m ops\u001b[39m.\u001b[39;49mcomparison_op(lvalues, rvalues, op)\n\u001b[0;32m   6094\u001b[0m \u001b[39mreturn\u001b[39;00m \u001b[39mself\u001b[39m\u001b[39m.\u001b[39m_construct_result(res_values, name\u001b[39m=\u001b[39mres_name)\n",
      "File \u001b[1;32m~\\AppData\\Roaming\\Python\\Python39\\site-packages\\pandas\\core\\ops\\array_ops.py:293\u001b[0m, in \u001b[0;36mcomparison_op\u001b[1;34m(left, right, op)\u001b[0m\n\u001b[0;32m    290\u001b[0m     \u001b[39mreturn\u001b[39;00m invalid_comparison(lvalues, rvalues, op)\n\u001b[0;32m    292\u001b[0m \u001b[39melif\u001b[39;00m is_object_dtype(lvalues\u001b[39m.\u001b[39mdtype) \u001b[39mor\u001b[39;00m \u001b[39misinstance\u001b[39m(rvalues, \u001b[39mstr\u001b[39m):\n\u001b[1;32m--> 293\u001b[0m     res_values \u001b[39m=\u001b[39m comp_method_OBJECT_ARRAY(op, lvalues, rvalues)\n\u001b[0;32m    295\u001b[0m \u001b[39melse\u001b[39;00m:\n\u001b[0;32m    296\u001b[0m     res_values \u001b[39m=\u001b[39m _na_arithmetic_op(lvalues, rvalues, op, is_cmp\u001b[39m=\u001b[39m\u001b[39mTrue\u001b[39;00m)\n",
      "File \u001b[1;32m~\\AppData\\Roaming\\Python\\Python39\\site-packages\\pandas\\core\\ops\\array_ops.py:82\u001b[0m, in \u001b[0;36mcomp_method_OBJECT_ARRAY\u001b[1;34m(op, x, y)\u001b[0m\n\u001b[0;32m     80\u001b[0m     result \u001b[39m=\u001b[39m libops\u001b[39m.\u001b[39mvec_compare(x\u001b[39m.\u001b[39mravel(), y\u001b[39m.\u001b[39mravel(), op)\n\u001b[0;32m     81\u001b[0m \u001b[39melse\u001b[39;00m:\n\u001b[1;32m---> 82\u001b[0m     result \u001b[39m=\u001b[39m libops\u001b[39m.\u001b[39;49mscalar_compare(x\u001b[39m.\u001b[39;49mravel(), y, op)\n\u001b[0;32m     83\u001b[0m \u001b[39mreturn\u001b[39;00m result\u001b[39m.\u001b[39mreshape(x\u001b[39m.\u001b[39mshape)\n",
      "File \u001b[1;32m~\\AppData\\Roaming\\Python\\Python39\\site-packages\\pandas\\_libs\\ops.pyx:107\u001b[0m, in \u001b[0;36mpandas._libs.ops.scalar_compare\u001b[1;34m()\u001b[0m\n",
      "\u001b[1;31mTypeError\u001b[0m: '>=' not supported between instances of 'datetime.date' and 'str'"
     ]
    }
   ],
   "source": [
    "# cutoff_date = \"2019-01-01 00:00:00\"\n",
    "# df = df.loc[df[\"DateTime\"] >= cutoff_date]"
   ]
  },
  {
   "cell_type": "code",
   "execution_count": 75,
   "metadata": {},
   "outputs": [],
   "source": [
    "# df"
   ]
  },
  {
   "cell_type": "code",
   "execution_count": 76,
   "metadata": {},
   "outputs": [
    {
     "name": "stdout",
     "output_type": "stream",
     "text": [
      "Players            float64\n",
      "Average Players    float64\n",
      "dtype: object\n"
     ]
    }
   ],
   "source": [
    "print(df.dtypes)"
   ]
  },
  {
   "cell_type": "code",
   "execution_count": 85,
   "metadata": {},
   "outputs": [
    {
     "data": {
      "text/html": [
       "<div>\n",
       "<style scoped>\n",
       "    .dataframe tbody tr th:only-of-type {\n",
       "        vertical-align: middle;\n",
       "    }\n",
       "\n",
       "    .dataframe tbody tr th {\n",
       "        vertical-align: top;\n",
       "    }\n",
       "\n",
       "    .dataframe thead th {\n",
       "        text-align: right;\n",
       "    }\n",
       "</style>\n",
       "<table border=\"1\" class=\"dataframe\">\n",
       "  <thead>\n",
       "    <tr style=\"text-align: right;\">\n",
       "      <th></th>\n",
       "      <th>Players</th>\n",
       "    </tr>\n",
       "    <tr>\n",
       "      <th>DateTime</th>\n",
       "      <th></th>\n",
       "    </tr>\n",
       "  </thead>\n",
       "  <tbody>\n",
       "    <tr>\n",
       "      <th>2011-11-30</th>\n",
       "      <td>680.0</td>\n",
       "    </tr>\n",
       "    <tr>\n",
       "      <th>2011-12-01</th>\n",
       "      <td>NaN</td>\n",
       "    </tr>\n",
       "    <tr>\n",
       "      <th>2011-12-02</th>\n",
       "      <td>NaN</td>\n",
       "    </tr>\n",
       "    <tr>\n",
       "      <th>2011-12-03</th>\n",
       "      <td>NaN</td>\n",
       "    </tr>\n",
       "    <tr>\n",
       "      <th>2011-12-04</th>\n",
       "      <td>NaN</td>\n",
       "    </tr>\n",
       "    <tr>\n",
       "      <th>...</th>\n",
       "      <td>...</td>\n",
       "    </tr>\n",
       "    <tr>\n",
       "      <th>2023-08-27</th>\n",
       "      <td>1369511.0</td>\n",
       "    </tr>\n",
       "    <tr>\n",
       "      <th>2023-08-28</th>\n",
       "      <td>1264878.0</td>\n",
       "    </tr>\n",
       "    <tr>\n",
       "      <th>2023-08-29</th>\n",
       "      <td>1251061.0</td>\n",
       "    </tr>\n",
       "    <tr>\n",
       "      <th>2023-08-30</th>\n",
       "      <td>1333931.0</td>\n",
       "    </tr>\n",
       "    <tr>\n",
       "      <th>2023-08-31</th>\n",
       "      <td>925788.0</td>\n",
       "    </tr>\n",
       "  </tbody>\n",
       "</table>\n",
       "<p>4293 rows × 1 columns</p>\n",
       "</div>"
      ],
      "text/plain": [
       "              Players\n",
       "DateTime             \n",
       "2011-11-30      680.0\n",
       "2011-12-01        NaN\n",
       "2011-12-02        NaN\n",
       "2011-12-03        NaN\n",
       "2011-12-04        NaN\n",
       "...               ...\n",
       "2023-08-27  1369511.0\n",
       "2023-08-28  1264878.0\n",
       "2023-08-29  1251061.0\n",
       "2023-08-30  1333931.0\n",
       "2023-08-31   925788.0\n",
       "\n",
       "[4293 rows x 1 columns]"
      ]
     },
     "execution_count": 85,
     "metadata": {},
     "output_type": "execute_result"
    }
   ],
   "source": [
    "csdf = df.drop(['Average Players'], axis=1)\n",
    "csdf"
   ]
  },
  {
   "cell_type": "code",
   "execution_count": 78,
   "metadata": {},
   "outputs": [],
   "source": [
    "csdf = pd.DataFrame(df)"
   ]
  },
  {
   "cell_type": "code",
   "execution_count": 217,
   "metadata": {},
   "outputs": [],
   "source": [
    "# csdf[['Players','Average Players']] = csdf[['Players','Average Players']].fillna(0)\n",
    "# csdf.head(10)"
   ]
  },
  {
   "cell_type": "code",
   "execution_count": 86,
   "metadata": {},
   "outputs": [
    {
     "data": {
      "text/html": [
       "<div>\n",
       "<style scoped>\n",
       "    .dataframe tbody tr th:only-of-type {\n",
       "        vertical-align: middle;\n",
       "    }\n",
       "\n",
       "    .dataframe tbody tr th {\n",
       "        vertical-align: top;\n",
       "    }\n",
       "\n",
       "    .dataframe thead th {\n",
       "        text-align: right;\n",
       "    }\n",
       "</style>\n",
       "<table border=\"1\" class=\"dataframe\">\n",
       "  <thead>\n",
       "    <tr style=\"text-align: right;\">\n",
       "      <th></th>\n",
       "      <th>Players</th>\n",
       "    </tr>\n",
       "    <tr>\n",
       "      <th>DateTime</th>\n",
       "      <th></th>\n",
       "    </tr>\n",
       "  </thead>\n",
       "  <tbody>\n",
       "    <tr>\n",
       "      <th>2011-11-30</th>\n",
       "      <td>680.0</td>\n",
       "    </tr>\n",
       "    <tr>\n",
       "      <th>2011-12-01</th>\n",
       "      <td>0.0</td>\n",
       "    </tr>\n",
       "    <tr>\n",
       "      <th>2011-12-02</th>\n",
       "      <td>0.0</td>\n",
       "    </tr>\n",
       "    <tr>\n",
       "      <th>2011-12-03</th>\n",
       "      <td>0.0</td>\n",
       "    </tr>\n",
       "    <tr>\n",
       "      <th>2011-12-04</th>\n",
       "      <td>0.0</td>\n",
       "    </tr>\n",
       "    <tr>\n",
       "      <th>2011-12-05</th>\n",
       "      <td>0.0</td>\n",
       "    </tr>\n",
       "    <tr>\n",
       "      <th>2011-12-06</th>\n",
       "      <td>0.0</td>\n",
       "    </tr>\n",
       "    <tr>\n",
       "      <th>2011-12-07</th>\n",
       "      <td>0.0</td>\n",
       "    </tr>\n",
       "    <tr>\n",
       "      <th>2011-12-08</th>\n",
       "      <td>0.0</td>\n",
       "    </tr>\n",
       "    <tr>\n",
       "      <th>2011-12-09</th>\n",
       "      <td>0.0</td>\n",
       "    </tr>\n",
       "  </tbody>\n",
       "</table>\n",
       "</div>"
      ],
      "text/plain": [
       "            Players\n",
       "DateTime           \n",
       "2011-11-30    680.0\n",
       "2011-12-01      0.0\n",
       "2011-12-02      0.0\n",
       "2011-12-03      0.0\n",
       "2011-12-04      0.0\n",
       "2011-12-05      0.0\n",
       "2011-12-06      0.0\n",
       "2011-12-07      0.0\n",
       "2011-12-08      0.0\n",
       "2011-12-09      0.0"
      ]
     },
     "execution_count": 86,
     "metadata": {},
     "output_type": "execute_result"
    }
   ],
   "source": [
    "csdf['Players'] = csdf['Players'].fillna(0)\n",
    "csdf.head(10)"
   ]
  },
  {
   "cell_type": "code",
   "execution_count": 87,
   "metadata": {},
   "outputs": [
    {
     "data": {
      "text/html": [
       "<div>\n",
       "<style scoped>\n",
       "    .dataframe tbody tr th:only-of-type {\n",
       "        vertical-align: middle;\n",
       "    }\n",
       "\n",
       "    .dataframe tbody tr th {\n",
       "        vertical-align: top;\n",
       "    }\n",
       "\n",
       "    .dataframe thead th {\n",
       "        text-align: right;\n",
       "    }\n",
       "</style>\n",
       "<table border=\"1\" class=\"dataframe\">\n",
       "  <thead>\n",
       "    <tr style=\"text-align: right;\">\n",
       "      <th></th>\n",
       "      <th>Players</th>\n",
       "    </tr>\n",
       "    <tr>\n",
       "      <th>DateTime</th>\n",
       "      <th></th>\n",
       "    </tr>\n",
       "  </thead>\n",
       "  <tbody>\n",
       "    <tr>\n",
       "      <th>2011-11-30</th>\n",
       "      <td>680.0</td>\n",
       "    </tr>\n",
       "    <tr>\n",
       "      <th>2011-12-01</th>\n",
       "      <td>0.0</td>\n",
       "    </tr>\n",
       "    <tr>\n",
       "      <th>2011-12-02</th>\n",
       "      <td>0.0</td>\n",
       "    </tr>\n",
       "    <tr>\n",
       "      <th>2011-12-03</th>\n",
       "      <td>0.0</td>\n",
       "    </tr>\n",
       "    <tr>\n",
       "      <th>2011-12-04</th>\n",
       "      <td>0.0</td>\n",
       "    </tr>\n",
       "  </tbody>\n",
       "</table>\n",
       "</div>"
      ],
      "text/plain": [
       "            Players\n",
       "DateTime           \n",
       "2011-11-30    680.0\n",
       "2011-12-01      0.0\n",
       "2011-12-02      0.0\n",
       "2011-12-03      0.0\n",
       "2011-12-04      0.0"
      ]
     },
     "execution_count": 87,
     "metadata": {},
     "output_type": "execute_result"
    }
   ],
   "source": [
    "csdf.head(5)"
   ]
  },
  {
   "cell_type": "code",
   "execution_count": 88,
   "metadata": {},
   "outputs": [
    {
     "name": "stdout",
     "output_type": "stream",
     "text": [
      "            Players\n",
      "DateTime           \n",
      "2011-11-30    680.0\n",
      "2011-12-01      0.0\n",
      "2011-12-02      0.0\n",
      "2011-12-03      0.0\n",
      "2011-12-04      0.0\n"
     ]
    }
   ],
   "source": [
    "print(csdf.head())"
   ]
  },
  {
   "cell_type": "code",
   "execution_count": 89,
   "metadata": {},
   "outputs": [
    {
     "data": {
      "text/plain": [
       "Players    0\n",
       "dtype: int64"
      ]
     },
     "execution_count": 89,
     "metadata": {},
     "output_type": "execute_result"
    }
   ],
   "source": [
    "csdf.isnull().sum()"
   ]
  },
  {
   "cell_type": "code",
   "execution_count": 90,
   "metadata": {},
   "outputs": [
    {
     "name": "stdout",
     "output_type": "stream",
     "text": [
      "<class 'pandas.core.frame.DataFrame'>\n",
      "DatetimeIndex: 4293 entries, 2011-11-30 to 2023-08-31\n",
      "Data columns (total 1 columns):\n",
      " #   Column   Non-Null Count  Dtype  \n",
      "---  ------   --------------  -----  \n",
      " 0   Players  4293 non-null   float64\n",
      "dtypes: float64(1)\n",
      "memory usage: 67.1 KB\n"
     ]
    }
   ],
   "source": [
    "csdf.info()"
   ]
  },
  {
   "cell_type": "code",
   "execution_count": 91,
   "metadata": {},
   "outputs": [
    {
     "data": {
      "text/plain": [
       "<Axes: xlabel='DateTime'>"
      ]
     },
     "execution_count": 91,
     "metadata": {},
     "output_type": "execute_result"
    },
    {
     "data": {
      "image/png": "[encoded data removed]",
      "text/plain": [
       "<Figure size 720x360 with 1 Axes>"
      ]
     },
     "metadata": {
      "needs_background": "light"
     },
     "output_type": "display_data"
    }
   ],
   "source": [
    "csdf.plot(figsize=(10,5))"
   ]
  },
  {
   "cell_type": "code",
   "execution_count": 15,
   "metadata": {},
   "outputs": [],
   "source": [
    "# sns.lineplot(data=csdf, x=\"DateTime\", y=\"Average Players\")\n",
    "# plt.title(\"Average Players on CSGO from 2012-now\")\n",
    "# plt.show()"
   ]
  },
  {
   "cell_type": "code",
   "execution_count": 92,
   "metadata": {},
   "outputs": [
    {
     "data": {
      "image/png": "[encoded data removed]",
      "text/plain": [
       "<Figure size 432x288 with 1 Axes>"
      ]
     },
     "metadata": {
      "needs_background": "light"
     },
     "output_type": "display_data"
    }
   ],
   "source": [
    "sns.lineplot(data=csdf, x=\"DateTime\", y=\"Players\")\n",
    "plt.title(\"Players count on CSGO from 2012-now\")\n",
    "plt.show()"
   ]
  },
  {
   "cell_type": "code",
   "execution_count": 23,
   "metadata": {},
   "outputs": [],
   "source": [
    "# corr = csdf.corr()\n",
    "# plt.figure(figsize=(12,10))\n",
    "# sns.heatmap(corr, annot=True)"
   ]
  },
  {
   "attachments": {},
   "cell_type": "markdown",
   "metadata": {},
   "source": [
    "### Check Stationary Data 🚉"
   ]
  },
  {
   "cell_type": "code",
   "execution_count": 93,
   "metadata": {},
   "outputs": [
    {
     "name": "stdout",
     "output_type": "stream",
     "text": [
      "ADF Statistic: -1.6320238043353077\n",
      "p-value: 0.4664315515738108\n"
     ]
    },
    {
     "data": {
      "image/png": "[encoded data removed]",
      "text/plain": [
       "<Figure size 864x432 with 1 Axes>"
      ]
     },
     "metadata": {
      "needs_background": "light"
     },
     "output_type": "display_data"
    }
   ],
   "source": [
    "# Menggunakan teknik Dickey-Fuller test\n",
    "result = adfuller(csdf['Players'])\n",
    "print(\"ADF Statistic:\", result[0])\n",
    "print(\"p-value:\", result[1])\n",
    "\n",
    "# Membuat plot grafik rolling mean and standard deviation\n",
    "rolling_mean = csdf['Players'].rolling(window=12).mean()\n",
    "rolling_std = csdf['Players'].rolling(window=12).std()\n",
    "\n",
    "plt.figure(figsize=(12, 6))\n",
    "plt.plot(csdf['Players'], label='Original')\n",
    "plt.plot(rolling_mean, label='Rolling Mean')\n",
    "plt.plot(rolling_std, label='Rolling Std')\n",
    "plt.legend(loc = 'best')\n",
    "plt.title('CSGO Player Count and Rolling Statistics')\n",
    "plt.show()"
   ]
  },
  {
   "cell_type": "code",
   "execution_count": 94,
   "metadata": {},
   "outputs": [],
   "source": [
    "#stationary \n",
    "def ad_test(csdf):\n",
    "    csdftest = adfuller(csdf, autolag='AIC')\n",
    "    print(\"1. ADF Stats : \", csdftest[0])\n",
    "    print(\"2. P-Value : \", csdftest[1])\n",
    "    print(\"3. lags : \", csdftest[2])\n",
    "    print(\"4. num of observations : \", csdftest[3])\n",
    "    print(\"5. critical values : \")\n",
    "    for key , val in csdftest[4].items():\n",
    "        print(\"\\t\", key, \": \",val)"
   ]
  },
  {
   "cell_type": "code",
   "execution_count": 95,
   "metadata": {},
   "outputs": [
    {
     "name": "stdout",
     "output_type": "stream",
     "text": [
      "1. ADF Stats :  -1.6320238043353077\n",
      "2. P-Value :  0.4664315515738108\n",
      "3. lags :  31\n",
      "4. num of observations :  4261\n",
      "5. critical values : \n",
      "\t 1% :  -3.4318856122567074\n",
      "\t 5% :  -2.8622185486666925\n",
      "\t 10% :  -2.567131196722582\n"
     ]
    }
   ],
   "source": [
    "ad_test(csdf['Players'])"
   ]
  },
  {
   "cell_type": "code",
   "execution_count": 96,
   "metadata": {},
   "outputs": [
    {
     "name": "stderr",
     "output_type": "stream",
     "text": [
      "C:\\Users\\Darren\\AppData\\Roaming\\Python\\Python39\\site-packages\\pandas\\core\\internals\\blocks.py:329: RuntimeWarning: divide by zero encountered in log\n",
      "  result = func(self.values, **kwargs)\n"
     ]
    },
    {
     "data": {
      "text/plain": [
       "[<matplotlib.lines.Line2D at 0x1d6a54d29d0>]"
      ]
     },
     "execution_count": 96,
     "metadata": {},
     "output_type": "execute_result"
    },
    {
     "data": {
      "image/png": "[encoded data removed]",
      "text/plain": [
       "<Figure size 432x288 with 1 Axes>"
      ]
     },
     "metadata": {
      "needs_background": "light"
     },
     "output_type": "display_data"
    }
   ],
   "source": [
    "#membuat log\n",
    "\n",
    "csdf_log = np.log(csdf)\n",
    "csdf_log = csdf_log.dropna()\n",
    "plt.plot(csdf_log)\n"
   ]
  },
  {
   "cell_type": "code",
   "execution_count": 97,
   "metadata": {},
   "outputs": [
    {
     "data": {
      "text/plain": [
       "[<matplotlib.lines.Line2D at 0x1d6a531c130>]"
      ]
     },
     "execution_count": 97,
     "metadata": {},
     "output_type": "execute_result"
    },
    {
     "data": {
      "image/png": "[encoded data removed]",
      "text/plain": [
       "<Figure size 432x288 with 1 Axes>"
      ]
     },
     "metadata": {
      "needs_background": "light"
     },
     "output_type": "display_data"
    }
   ],
   "source": [
    "csdf_log = csdf_log.fillna(method='ffill')  # Forward fill missing values\n",
    "plt.plot(csdf_log)\n"
   ]
  },
  {
   "cell_type": "code",
   "execution_count": 98,
   "metadata": {},
   "outputs": [],
   "source": [
    "#test run ke 2 untuk ADF\n",
    "\n",
    "def stationary(timeseries):\n",
    "\n",
    "    # Membuat plot grafik rolling mean and standard deviation\n",
    "    rolling_mean = timeseries.rolling(window=12).mean()\n",
    "    rolling_std = timeseries.rolling(window=12).std()\n",
    "\n",
    "    #plot figure\n",
    "    plt.figure(figsize=(12, 6))\n",
    "    plt.plot(timeseries, color='blue', label='Original')\n",
    "    plt.plot(rolling_mean, color='purple', label='Rolling Mean')\n",
    "    plt.plot(rolling_std, color='magenta', label='Rolling Std')\n",
    "    plt.legend(loc = 'best')\n",
    "    plt.title('CSGO Player Count and Rolling Statistics')\n",
    "    plt.show()\n",
    "\n",
    "    # Menggunakan teknik Dickey-Fuller test\n",
    "    result = adfuller(timeseries['Players'])\n",
    "    print(\"ADF Statistic: {}\".format(result[0]))\n",
    "    print(\"p-value:\".format(result[1]))\n",
    "    print(\"Critical values : \")\n",
    "    for key, value in result[4].items():\n",
    "        print(\"\\t{}: {}\".format(key, value))\n",
    "    if result[0] < result [4][\"5%\"]:\n",
    "        print(\"Reject H0- Time series is Stationary\")\n",
    "    else:\n",
    "        print(\"Failed to reject H0 - Time series is Non-Stationary\")\n"
   ]
  },
  {
   "cell_type": "code",
   "execution_count": 99,
   "metadata": {},
   "outputs": [
    {
     "data": {
      "image/png": "[encoded data removed]",
      "text/plain": [
       "<Figure size 864x432 with 1 Axes>"
      ]
     },
     "metadata": {
      "needs_background": "light"
     },
     "output_type": "display_data"
    },
    {
     "name": "stdout",
     "output_type": "stream",
     "text": [
      "ADF Statistic: -13.727279671990578\n",
      "p-value:\n",
      "Critical values : \n",
      "\t1%: -3.431951814918001\n",
      "\t5%: -2.862247794094088\n",
      "\t10%: -2.5671467656395834\n",
      "Reject H0- Time series is Stationary\n"
     ]
    }
   ],
   "source": [
    "# Calculate and subtract a moving average\n",
    "rolling_mean = csdf_log.rolling(window=3).mean()\n",
    "stationary_data_mean = csdf_log - rolling_mean\n",
    "stationary_data_mean.dropna(inplace=True)\n",
    "\n",
    "stationary(stationary_data_mean)"
   ]
  },
  {
   "attachments": {},
   "cell_type": "markdown",
   "metadata": {},
   "source": [
    "### Optimal Parameter"
   ]
  },
  {
   "cell_type": "code",
   "execution_count": 100,
   "metadata": {},
   "outputs": [
    {
     "name": "stderr",
     "output_type": "stream",
     "text": [
      "C:\\Users\\Darren\\AppData\\Local\\Temp\\ipykernel_10744\\180388553.py:2: UserWarning: Matplotlib is currently using module://matplotlib_inline.backend_inline, which is a non-GUI backend, so cannot show the figure.\n",
      "  plt.show()\n"
     ]
    },
    {
     "data": {
      "image/png": "[encoded data removed]",
      "text/plain": [
       "<Figure size 432x288 with 1 Axes>"
      ]
     },
     "metadata": {
      "needs_background": "light"
     },
     "output_type": "display_data"
    }
   ],
   "source": [
    "plt = sm.graphics.tsa.plot_acf(stationary_data_mean['Players'], lags=31)\n",
    "plt.show()"
   ]
  },
  {
   "cell_type": "code",
   "execution_count": 101,
   "metadata": {},
   "outputs": [
    {
     "name": "stderr",
     "output_type": "stream",
     "text": [
      "C:\\Users\\Darren\\AppData\\Local\\Temp\\ipykernel_10744\\3490614546.py:2: UserWarning: Matplotlib is currently using module://matplotlib_inline.backend_inline, which is a non-GUI backend, so cannot show the figure.\n",
      "  plt.show()\n"
     ]
    },
    {
     "data": {
      "image/png": "[encoded data removed]",
      "text/plain": [
       "<Figure size 432x288 with 1 Axes>"
      ]
     },
     "metadata": {
      "needs_background": "light"
     },
     "output_type": "display_data"
    }
   ],
   "source": [
    "plt = sm.graphics.tsa.plot_pacf(stationary_data_mean['Players'], lags=31)\n",
    "plt.show()"
   ]
  },
  {
   "cell_type": "code",
   "execution_count": 129,
   "metadata": {},
   "outputs": [],
   "source": [
    "from pmdarima import auto_arima\n",
    "\n",
    "import warnings\n",
    "warnings.filterwarnings(\"ignore\")"
   ]
  },
  {
   "cell_type": "code",
   "execution_count": 103,
   "metadata": {},
   "outputs": [
    {
     "data": {
      "text/html": [
       "<table class=\"simpletable\">\n",
       "<caption>SARIMAX Results</caption>\n",
       "<tr>\n",
       "  <th>Dep. Variable:</th>        <td>Players</td>     <th>  No. Observations:  </th>    <td>4293</td>   \n",
       "</tr>\n",
       "<tr>\n",
       "  <th>Model:</th>            <td>ARIMA(5, 1, 5)</td>  <th>  Log Likelihood     </th> <td>-51104.868</td>\n",
       "</tr>\n",
       "<tr>\n",
       "  <th>Date:</th>            <td>Tue, 05 Sep 2023</td> <th>  AIC                </th> <td>102231.735</td>\n",
       "</tr>\n",
       "<tr>\n",
       "  <th>Time:</th>                <td>14:04:12</td>     <th>  BIC                </th> <td>102301.745</td>\n",
       "</tr>\n",
       "<tr>\n",
       "  <th>Sample:</th>             <td>11-30-2011</td>    <th>  HQIC               </th> <td>102256.463</td>\n",
       "</tr>\n",
       "<tr>\n",
       "  <th></th>                   <td>- 08-31-2023</td>   <th>                     </th>      <td> </td>    \n",
       "</tr>\n",
       "<tr>\n",
       "  <th>Covariance Type:</th>        <td>opg</td>       <th>                     </th>      <td> </td>    \n",
       "</tr>\n",
       "</table>\n",
       "<table class=\"simpletable\">\n",
       "<tr>\n",
       "     <td></td>       <th>coef</th>     <th>std err</th>      <th>z</th>      <th>P>|z|</th>  <th>[0.025</th>    <th>0.975]</th>  \n",
       "</tr>\n",
       "<tr>\n",
       "  <th>ar.L1</th>  <td>    0.9860</td> <td>    0.027</td> <td>   36.260</td> <td> 0.000</td> <td>    0.933</td> <td>    1.039</td>\n",
       "</tr>\n",
       "<tr>\n",
       "  <th>ar.L2</th>  <td>   -1.5720</td> <td>    0.023</td> <td>  -68.497</td> <td> 0.000</td> <td>   -1.617</td> <td>   -1.527</td>\n",
       "</tr>\n",
       "<tr>\n",
       "  <th>ar.L3</th>  <td>    1.0593</td> <td>    0.038</td> <td>   28.109</td> <td> 0.000</td> <td>    0.985</td> <td>    1.133</td>\n",
       "</tr>\n",
       "<tr>\n",
       "  <th>ar.L4</th>  <td>   -1.1152</td> <td>    0.021</td> <td>  -52.654</td> <td> 0.000</td> <td>   -1.157</td> <td>   -1.074</td>\n",
       "</tr>\n",
       "<tr>\n",
       "  <th>ar.L5</th>  <td>    0.1880</td> <td>    0.024</td> <td>    7.716</td> <td> 0.000</td> <td>    0.140</td> <td>    0.236</td>\n",
       "</tr>\n",
       "<tr>\n",
       "  <th>ma.L1</th>  <td>   -1.3310</td> <td>    0.027</td> <td>  -49.837</td> <td> 0.000</td> <td>   -1.383</td> <td>   -1.279</td>\n",
       "</tr>\n",
       "<tr>\n",
       "  <th>ma.L2</th>  <td>    1.7410</td> <td>    0.029</td> <td>   60.412</td> <td> 0.000</td> <td>    1.685</td> <td>    1.797</td>\n",
       "</tr>\n",
       "<tr>\n",
       "  <th>ma.L3</th>  <td>   -1.4947</td> <td>    0.035</td> <td>  -42.440</td> <td> 0.000</td> <td>   -1.564</td> <td>   -1.426</td>\n",
       "</tr>\n",
       "<tr>\n",
       "  <th>ma.L4</th>  <td>    1.2470</td> <td>    0.025</td> <td>   50.655</td> <td> 0.000</td> <td>    1.199</td> <td>    1.295</td>\n",
       "</tr>\n",
       "<tr>\n",
       "  <th>ma.L5</th>  <td>   -0.4806</td> <td>    0.019</td> <td>  -25.524</td> <td> 0.000</td> <td>   -0.517</td> <td>   -0.444</td>\n",
       "</tr>\n",
       "<tr>\n",
       "  <th>sigma2</th> <td> 1.471e+09</td> <td> 1.54e-11</td> <td> 9.54e+19</td> <td> 0.000</td> <td> 1.47e+09</td> <td> 1.47e+09</td>\n",
       "</tr>\n",
       "</table>\n",
       "<table class=\"simpletable\">\n",
       "<tr>\n",
       "  <th>Ljung-Box (L1) (Q):</th>     <td>0.40</td> <th>  Jarque-Bera (JB):  </th> <td>749717.98</td>\n",
       "</tr>\n",
       "<tr>\n",
       "  <th>Prob(Q):</th>                <td>0.53</td> <th>  Prob(JB):          </th>   <td>0.00</td>   \n",
       "</tr>\n",
       "<tr>\n",
       "  <th>Heteroskedasticity (H):</th> <td>0.93</td> <th>  Skew:              </th>   <td>1.50</td>   \n",
       "</tr>\n",
       "<tr>\n",
       "  <th>Prob(H) (two-sided):</th>    <td>0.16</td> <th>  Kurtosis:          </th>   <td>67.68</td>  \n",
       "</tr>\n",
       "</table><br/><br/>Warnings:<br/>[1] Covariance matrix calculated using the outer product of gradients (complex-step).<br/>[2] Covariance matrix is singular or near-singular, with condition number 1.62e+35. Standard errors may be unstable."
      ],
      "text/latex": [
       "\\begin{center}\n",
       "\\begin{tabular}{lclc}\n",
       "\\toprule\n",
       "\\textbf{Dep. Variable:}          &     Players      & \\textbf{  No. Observations:  } &    4293     \\\\\n",
       "\\textbf{Model:}                  &  ARIMA(5, 1, 5)  & \\textbf{  Log Likelihood     } & -51104.868  \\\\\n",
       "\\textbf{Date:}                   & Tue, 05 Sep 2023 & \\textbf{  AIC                } & 102231.735  \\\\\n",
       "\\textbf{Time:}                   &     14:04:12     & \\textbf{  BIC                } & 102301.745  \\\\\n",
       "\\textbf{Sample:}                 &    11-30-2011    & \\textbf{  HQIC               } & 102256.463  \\\\\n",
       "\\textbf{}                        &   - 08-31-2023   & \\textbf{                     } &             \\\\\n",
       "\\textbf{Covariance Type:}        &       opg        & \\textbf{                     } &             \\\\\n",
       "\\bottomrule\n",
       "\\end{tabular}\n",
       "\\begin{tabular}{lcccccc}\n",
       "                & \\textbf{coef} & \\textbf{std err} & \\textbf{z} & \\textbf{P$> |$z$|$} & \\textbf{[0.025} & \\textbf{0.975]}  \\\\\n",
       "\\midrule\n",
       "\\textbf{ar.L1}  &       0.9860  &        0.027     &    36.260  &         0.000        &        0.933    &        1.039     \\\\\n",
       "\\textbf{ar.L2}  &      -1.5720  &        0.023     &   -68.497  &         0.000        &       -1.617    &       -1.527     \\\\\n",
       "\\textbf{ar.L3}  &       1.0593  &        0.038     &    28.109  &         0.000        &        0.985    &        1.133     \\\\\n",
       "\\textbf{ar.L4}  &      -1.1152  &        0.021     &   -52.654  &         0.000        &       -1.157    &       -1.074     \\\\\n",
       "\\textbf{ar.L5}  &       0.1880  &        0.024     &     7.716  &         0.000        &        0.140    &        0.236     \\\\\n",
       "\\textbf{ma.L1}  &      -1.3310  &        0.027     &   -49.837  &         0.000        &       -1.383    &       -1.279     \\\\\n",
       "\\textbf{ma.L2}  &       1.7410  &        0.029     &    60.412  &         0.000        &        1.685    &        1.797     \\\\\n",
       "\\textbf{ma.L3}  &      -1.4947  &        0.035     &   -42.440  &         0.000        &       -1.564    &       -1.426     \\\\\n",
       "\\textbf{ma.L4}  &       1.2470  &        0.025     &    50.655  &         0.000        &        1.199    &        1.295     \\\\\n",
       "\\textbf{ma.L5}  &      -0.4806  &        0.019     &   -25.524  &         0.000        &       -0.517    &       -0.444     \\\\\n",
       "\\textbf{sigma2} &    1.471e+09  &     1.54e-11     &  9.54e+19  &         0.000        &     1.47e+09    &     1.47e+09     \\\\\n",
       "\\bottomrule\n",
       "\\end{tabular}\n",
       "\\begin{tabular}{lclc}\n",
       "\\textbf{Ljung-Box (L1) (Q):}     & 0.40 & \\textbf{  Jarque-Bera (JB):  } & 749717.98  \\\\\n",
       "\\textbf{Prob(Q):}                & 0.53 & \\textbf{  Prob(JB):          } &    0.00    \\\\\n",
       "\\textbf{Heteroskedasticity (H):} & 0.93 & \\textbf{  Skew:              } &    1.50    \\\\\n",
       "\\textbf{Prob(H) (two-sided):}    & 0.16 & \\textbf{  Kurtosis:          } &   67.68    \\\\\n",
       "\\bottomrule\n",
       "\\end{tabular}\n",
       "%\\caption{SARIMAX Results}\n",
       "\\end{center}\n",
       "\n",
       "Warnings: \\newline\n",
       " [1] Covariance matrix calculated using the outer product of gradients (complex-step). \\newline\n",
       " [2] Covariance matrix is singular or near-singular, with condition number 1.62e+35. Standard errors may be unstable."
      ],
      "text/plain": [
       "<class 'statsmodels.iolib.summary.Summary'>\n",
       "\"\"\"\n",
       "                               SARIMAX Results                                \n",
       "==============================================================================\n",
       "Dep. Variable:                Players   No. Observations:                 4293\n",
       "Model:                 ARIMA(5, 1, 5)   Log Likelihood              -51104.868\n",
       "Date:                Tue, 05 Sep 2023   AIC                         102231.735\n",
       "Time:                        14:04:12   BIC                         102301.745\n",
       "Sample:                    11-30-2011   HQIC                        102256.463\n",
       "                         - 08-31-2023                                         \n",
       "Covariance Type:                  opg                                         \n",
       "==============================================================================\n",
       "                 coef    std err          z      P>|z|      [0.025      0.975]\n",
       "------------------------------------------------------------------------------\n",
       "ar.L1          0.9860      0.027     36.260      0.000       0.933       1.039\n",
       "ar.L2         -1.5720      0.023    -68.497      0.000      -1.617      -1.527\n",
       "ar.L3          1.0593      0.038     28.109      0.000       0.985       1.133\n",
       "ar.L4         -1.1152      0.021    -52.654      0.000      -1.157      -1.074\n",
       "ar.L5          0.1880      0.024      7.716      0.000       0.140       0.236\n",
       "ma.L1         -1.3310      0.027    -49.837      0.000      -1.383      -1.279\n",
       "ma.L2          1.7410      0.029     60.412      0.000       1.685       1.797\n",
       "ma.L3         -1.4947      0.035    -42.440      0.000      -1.564      -1.426\n",
       "ma.L4          1.2470      0.025     50.655      0.000       1.199       1.295\n",
       "ma.L5         -0.4806      0.019    -25.524      0.000      -0.517      -0.444\n",
       "sigma2      1.471e+09   1.54e-11   9.54e+19      0.000    1.47e+09    1.47e+09\n",
       "===================================================================================\n",
       "Ljung-Box (L1) (Q):                   0.40   Jarque-Bera (JB):            749717.98\n",
       "Prob(Q):                              0.53   Prob(JB):                         0.00\n",
       "Heteroskedasticity (H):               0.93   Skew:                             1.50\n",
       "Prob(H) (two-sided):                  0.16   Kurtosis:                        67.68\n",
       "===================================================================================\n",
       "\n",
       "Warnings:\n",
       "[1] Covariance matrix calculated using the outer product of gradients (complex-step).\n",
       "[2] Covariance matrix is singular or near-singular, with condition number 1.62e+35. Standard errors may be unstable.\n",
       "\"\"\""
      ]
     },
     "execution_count": 103,
     "metadata": {},
     "output_type": "execute_result"
    }
   ],
   "source": [
    "model= ARIMA(csdf, order=(5,1,5))\n",
    "results = model.fit()\n",
    "results.summary()"
   ]
  },
  {
   "cell_type": "code",
   "execution_count": 30,
   "metadata": {},
   "outputs": [
    {
     "name": "stdout",
     "output_type": "stream",
     "text": [
      "Performing stepwise search to minimize aic\n",
      " ARIMA(2,1,2)(0,0,0)[0] intercept   : AIC=103028.625, Time=2.26 sec\n",
      " ARIMA(0,1,0)(0,0,0)[0] intercept   : AIC=104062.194, Time=0.07 sec\n",
      " ARIMA(1,1,0)(0,0,0)[0] intercept   : AIC=104032.815, Time=0.08 sec\n",
      " ARIMA(0,1,1)(0,0,0)[0] intercept   : AIC=104011.031, Time=0.19 sec\n",
      " ARIMA(0,1,0)(0,0,0)[0]             : AIC=104060.294, Time=0.05 sec\n",
      " ARIMA(1,1,2)(0,0,0)[0] intercept   : AIC=103475.065, Time=0.79 sec\n",
      " ARIMA(2,1,1)(0,0,0)[0] intercept   : AIC=103387.091, Time=0.85 sec\n",
      " ARIMA(3,1,2)(0,0,0)[0] intercept   : AIC=102772.253, Time=2.76 sec\n",
      " ARIMA(3,1,1)(0,0,0)[0] intercept   : AIC=103272.049, Time=0.87 sec\n",
      " ARIMA(4,1,2)(0,0,0)[0] intercept   : AIC=102557.557, Time=3.85 sec\n",
      " ARIMA(4,1,1)(0,0,0)[0] intercept   : AIC=103114.370, Time=0.83 sec\n",
      " ARIMA(5,1,2)(0,0,0)[0] intercept   : AIC=102523.403, Time=4.98 sec\n",
      " ARIMA(5,1,1)(0,0,0)[0] intercept   : AIC=102941.486, Time=1.08 sec\n",
      " ARIMA(5,1,3)(0,0,0)[0] intercept   : AIC=102511.464, Time=5.59 sec\n",
      " ARIMA(4,1,3)(0,0,0)[0] intercept   : AIC=102686.480, Time=5.34 sec\n",
      " ARIMA(5,1,4)(0,0,0)[0] intercept   : AIC=102340.534, Time=6.33 sec\n",
      " ARIMA(4,1,4)(0,0,0)[0] intercept   : AIC=102545.769, Time=5.07 sec\n",
      " ARIMA(5,1,5)(0,0,0)[0] intercept   : AIC=102228.327, Time=7.76 sec\n",
      " ARIMA(4,1,5)(0,0,0)[0] intercept   : AIC=102498.321, Time=7.05 sec\n",
      " ARIMA(5,1,5)(0,0,0)[0]             : AIC=102231.735, Time=7.01 sec\n",
      "\n",
      "Best model:  ARIMA(5,1,5)(0,0,0)[0] intercept\n",
      "Total fit time: 62.792 seconds\n"
     ]
    },
    {
     "data": {
      "text/html": [
       "<table class=\"simpletable\">\n",
       "<caption>SARIMAX Results</caption>\n",
       "<tr>\n",
       "  <th>Dep. Variable:</th>           <td>y</td>        <th>  No. Observations:  </th>    <td>4293</td>   \n",
       "</tr>\n",
       "<tr>\n",
       "  <th>Model:</th>           <td>SARIMAX(5, 1, 5)</td> <th>  Log Likelihood     </th> <td>-51102.163</td>\n",
       "</tr>\n",
       "<tr>\n",
       "  <th>Date:</th>            <td>Tue, 05 Sep 2023</td> <th>  AIC                </th> <td>102228.327</td>\n",
       "</tr>\n",
       "<tr>\n",
       "  <th>Time:</th>                <td>10:34:36</td>     <th>  BIC                </th> <td>102304.701</td>\n",
       "</tr>\n",
       "<tr>\n",
       "  <th>Sample:</th>             <td>11-30-2011</td>    <th>  HQIC               </th> <td>102255.303</td>\n",
       "</tr>\n",
       "<tr>\n",
       "  <th></th>                   <td>- 08-31-2023</td>   <th>                     </th>      <td> </td>    \n",
       "</tr>\n",
       "<tr>\n",
       "  <th>Covariance Type:</th>        <td>opg</td>       <th>                     </th>      <td> </td>    \n",
       "</tr>\n",
       "</table>\n",
       "<table class=\"simpletable\">\n",
       "<tr>\n",
       "      <td></td>         <th>coef</th>     <th>std err</th>      <th>z</th>      <th>P>|z|</th>  <th>[0.025</th>    <th>0.975]</th>  \n",
       "</tr>\n",
       "<tr>\n",
       "  <th>intercept</th> <td>  499.1954</td> <td>  431.958</td> <td>    1.156</td> <td> 0.248</td> <td> -347.427</td> <td> 1345.818</td>\n",
       "</tr>\n",
       "<tr>\n",
       "  <th>ar.L1</th>     <td>    1.0201</td> <td>    0.027</td> <td>   37.754</td> <td> 0.000</td> <td>    0.967</td> <td>    1.073</td>\n",
       "</tr>\n",
       "<tr>\n",
       "  <th>ar.L2</th>     <td>   -1.6038</td> <td>    0.022</td> <td>  -71.488</td> <td> 0.000</td> <td>   -1.648</td> <td>   -1.560</td>\n",
       "</tr>\n",
       "<tr>\n",
       "  <th>ar.L3</th>     <td>    1.1100</td> <td>    0.038</td> <td>   29.488</td> <td> 0.000</td> <td>    1.036</td> <td>    1.184</td>\n",
       "</tr>\n",
       "<tr>\n",
       "  <th>ar.L4</th>     <td>   -1.1470</td> <td>    0.021</td> <td>  -54.799</td> <td> 0.000</td> <td>   -1.188</td> <td>   -1.106</td>\n",
       "</tr>\n",
       "<tr>\n",
       "  <th>ar.L5</th>     <td>    0.2187</td> <td>    0.025</td> <td>    8.898</td> <td> 0.000</td> <td>    0.171</td> <td>    0.267</td>\n",
       "</tr>\n",
       "<tr>\n",
       "  <th>ma.L1</th>     <td>   -1.3650</td> <td>    0.026</td> <td>  -51.633</td> <td> 0.000</td> <td>   -1.417</td> <td>   -1.313</td>\n",
       "</tr>\n",
       "<tr>\n",
       "  <th>ma.L2</th>     <td>    1.7738</td> <td>    0.028</td> <td>   62.991</td> <td> 0.000</td> <td>    1.719</td> <td>    1.829</td>\n",
       "</tr>\n",
       "<tr>\n",
       "  <th>ma.L3</th>     <td>   -1.5426</td> <td>    0.035</td> <td>  -44.557</td> <td> 0.000</td> <td>   -1.610</td> <td>   -1.475</td>\n",
       "</tr>\n",
       "<tr>\n",
       "  <th>ma.L4</th>     <td>    1.2743</td> <td>    0.024</td> <td>   52.746</td> <td> 0.000</td> <td>    1.227</td> <td>    1.322</td>\n",
       "</tr>\n",
       "<tr>\n",
       "  <th>ma.L5</th>     <td>   -0.5001</td> <td>    0.018</td> <td>  -27.238</td> <td> 0.000</td> <td>   -0.536</td> <td>   -0.464</td>\n",
       "</tr>\n",
       "<tr>\n",
       "  <th>sigma2</th>    <td>  1.47e+09</td> <td>    0.004</td> <td> 3.51e+11</td> <td> 0.000</td> <td> 1.47e+09</td> <td> 1.47e+09</td>\n",
       "</tr>\n",
       "</table>\n",
       "<table class=\"simpletable\">\n",
       "<tr>\n",
       "  <th>Ljung-Box (L1) (Q):</th>     <td>0.49</td> <th>  Jarque-Bera (JB):  </th> <td>746879.00</td>\n",
       "</tr>\n",
       "<tr>\n",
       "  <th>Prob(Q):</th>                <td>0.49</td> <th>  Prob(JB):          </th>   <td>0.00</td>   \n",
       "</tr>\n",
       "<tr>\n",
       "  <th>Heteroskedasticity (H):</th> <td>0.92</td> <th>  Skew:              </th>   <td>1.50</td>   \n",
       "</tr>\n",
       "<tr>\n",
       "  <th>Prob(H) (two-sided):</th>    <td>0.12</td> <th>  Kurtosis:          </th>   <td>67.56</td>  \n",
       "</tr>\n",
       "</table><br/><br/>Warnings:<br/>[1] Covariance matrix calculated using the outer product of gradients (complex-step).<br/>[2] Covariance matrix is singular or near-singular, with condition number 5.92e+25. Standard errors may be unstable."
      ],
      "text/latex": [
       "\\begin{center}\n",
       "\\begin{tabular}{lclc}\n",
       "\\toprule\n",
       "\\textbf{Dep. Variable:}          &        y         & \\textbf{  No. Observations:  } &    4293     \\\\\n",
       "\\textbf{Model:}                  & SARIMAX(5, 1, 5) & \\textbf{  Log Likelihood     } & -51102.163  \\\\\n",
       "\\textbf{Date:}                   & Tue, 05 Sep 2023 & \\textbf{  AIC                } & 102228.327  \\\\\n",
       "\\textbf{Time:}                   &     10:34:36     & \\textbf{  BIC                } & 102304.701  \\\\\n",
       "\\textbf{Sample:}                 &    11-30-2011    & \\textbf{  HQIC               } & 102255.303  \\\\\n",
       "\\textbf{}                        &   - 08-31-2023   & \\textbf{                     } &             \\\\\n",
       "\\textbf{Covariance Type:}        &       opg        & \\textbf{                     } &             \\\\\n",
       "\\bottomrule\n",
       "\\end{tabular}\n",
       "\\begin{tabular}{lcccccc}\n",
       "                   & \\textbf{coef} & \\textbf{std err} & \\textbf{z} & \\textbf{P$> |$z$|$} & \\textbf{[0.025} & \\textbf{0.975]}  \\\\\n",
       "\\midrule\n",
       "\\textbf{intercept} &     499.1954  &      431.958     &     1.156  &         0.248        &     -347.427    &     1345.818     \\\\\n",
       "\\textbf{ar.L1}     &       1.0201  &        0.027     &    37.754  &         0.000        &        0.967    &        1.073     \\\\\n",
       "\\textbf{ar.L2}     &      -1.6038  &        0.022     &   -71.488  &         0.000        &       -1.648    &       -1.560     \\\\\n",
       "\\textbf{ar.L3}     &       1.1100  &        0.038     &    29.488  &         0.000        &        1.036    &        1.184     \\\\\n",
       "\\textbf{ar.L4}     &      -1.1470  &        0.021     &   -54.799  &         0.000        &       -1.188    &       -1.106     \\\\\n",
       "\\textbf{ar.L5}     &       0.2187  &        0.025     &     8.898  &         0.000        &        0.171    &        0.267     \\\\\n",
       "\\textbf{ma.L1}     &      -1.3650  &        0.026     &   -51.633  &         0.000        &       -1.417    &       -1.313     \\\\\n",
       "\\textbf{ma.L2}     &       1.7738  &        0.028     &    62.991  &         0.000        &        1.719    &        1.829     \\\\\n",
       "\\textbf{ma.L3}     &      -1.5426  &        0.035     &   -44.557  &         0.000        &       -1.610    &       -1.475     \\\\\n",
       "\\textbf{ma.L4}     &       1.2743  &        0.024     &    52.746  &         0.000        &        1.227    &        1.322     \\\\\n",
       "\\textbf{ma.L5}     &      -0.5001  &        0.018     &   -27.238  &         0.000        &       -0.536    &       -0.464     \\\\\n",
       "\\textbf{sigma2}    &     1.47e+09  &        0.004     &  3.51e+11  &         0.000        &     1.47e+09    &     1.47e+09     \\\\\n",
       "\\bottomrule\n",
       "\\end{tabular}\n",
       "\\begin{tabular}{lclc}\n",
       "\\textbf{Ljung-Box (L1) (Q):}     & 0.49 & \\textbf{  Jarque-Bera (JB):  } & 746879.00  \\\\\n",
       "\\textbf{Prob(Q):}                & 0.49 & \\textbf{  Prob(JB):          } &    0.00    \\\\\n",
       "\\textbf{Heteroskedasticity (H):} & 0.92 & \\textbf{  Skew:              } &    1.50    \\\\\n",
       "\\textbf{Prob(H) (two-sided):}    & 0.12 & \\textbf{  Kurtosis:          } &   67.56    \\\\\n",
       "\\bottomrule\n",
       "\\end{tabular}\n",
       "%\\caption{SARIMAX Results}\n",
       "\\end{center}\n",
       "\n",
       "Warnings: \\newline\n",
       " [1] Covariance matrix calculated using the outer product of gradients (complex-step). \\newline\n",
       " [2] Covariance matrix is singular or near-singular, with condition number 5.92e+25. Standard errors may be unstable."
      ],
      "text/plain": [
       "<class 'statsmodels.iolib.summary.Summary'>\n",
       "\"\"\"\n",
       "                               SARIMAX Results                                \n",
       "==============================================================================\n",
       "Dep. Variable:                      y   No. Observations:                 4293\n",
       "Model:               SARIMAX(5, 1, 5)   Log Likelihood              -51102.163\n",
       "Date:                Tue, 05 Sep 2023   AIC                         102228.327\n",
       "Time:                        10:34:36   BIC                         102304.701\n",
       "Sample:                    11-30-2011   HQIC                        102255.303\n",
       "                         - 08-31-2023                                         \n",
       "Covariance Type:                  opg                                         \n",
       "==============================================================================\n",
       "                 coef    std err          z      P>|z|      [0.025      0.975]\n",
       "------------------------------------------------------------------------------\n",
       "intercept    499.1954    431.958      1.156      0.248    -347.427    1345.818\n",
       "ar.L1          1.0201      0.027     37.754      0.000       0.967       1.073\n",
       "ar.L2         -1.6038      0.022    -71.488      0.000      -1.648      -1.560\n",
       "ar.L3          1.1100      0.038     29.488      0.000       1.036       1.184\n",
       "ar.L4         -1.1470      0.021    -54.799      0.000      -1.188      -1.106\n",
       "ar.L5          0.2187      0.025      8.898      0.000       0.171       0.267\n",
       "ma.L1         -1.3650      0.026    -51.633      0.000      -1.417      -1.313\n",
       "ma.L2          1.7738      0.028     62.991      0.000       1.719       1.829\n",
       "ma.L3         -1.5426      0.035    -44.557      0.000      -1.610      -1.475\n",
       "ma.L4          1.2743      0.024     52.746      0.000       1.227       1.322\n",
       "ma.L5         -0.5001      0.018    -27.238      0.000      -0.536      -0.464\n",
       "sigma2       1.47e+09      0.004   3.51e+11      0.000    1.47e+09    1.47e+09\n",
       "===================================================================================\n",
       "Ljung-Box (L1) (Q):                   0.49   Jarque-Bera (JB):            746879.00\n",
       "Prob(Q):                              0.49   Prob(JB):                         0.00\n",
       "Heteroskedasticity (H):               0.92   Skew:                             1.50\n",
       "Prob(H) (two-sided):                  0.12   Kurtosis:                        67.56\n",
       "===================================================================================\n",
       "\n",
       "Warnings:\n",
       "[1] Covariance matrix calculated using the outer product of gradients (complex-step).\n",
       "[2] Covariance matrix is singular or near-singular, with condition number 5.92e+25. Standard errors may be unstable.\n",
       "\"\"\""
      ]
     },
     "execution_count": 30,
     "metadata": {},
     "output_type": "execute_result"
    }
   ],
   "source": [
    "check_arima = auto_arima(csdf['Players'], trace=True, suppress_warnings=True)\n",
    "check_arima.summary()"
   ]
  },
  {
   "cell_type": "code",
   "execution_count": 104,
   "metadata": {},
   "outputs": [],
   "source": [
    "from sklearn.model_selection import train_test_split"
   ]
  },
  {
   "cell_type": "code",
   "execution_count": 83,
   "metadata": {},
   "outputs": [],
   "source": [
    "# X = csdf['DateTime']\n",
    "# y = csdf['Players']"
   ]
  },
  {
   "cell_type": "code",
   "execution_count": 84,
   "metadata": {},
   "outputs": [],
   "source": [
    "# X_train,X_test, y_train, y_test = train_test_split(X,y, test_size=0.2, random_state=42)\n",
    "\n",
    "# print(train.shape, test.shape)"
   ]
  },
  {
   "cell_type": "code",
   "execution_count": 177,
   "metadata": {},
   "outputs": [
    {
     "name": "stdout",
     "output_type": "stream",
     "text": [
      "(4293, 1)\n",
      "(4238, 1) (55, 1)\n"
     ]
    }
   ],
   "source": [
    "print(csdf.shape)\n",
    "train = csdf.iloc[:-55]\n",
    "test = csdf.iloc[-55:]\n",
    "print(train.shape, test.shape)"
   ]
  },
  {
   "cell_type": "code",
   "execution_count": 178,
   "metadata": {},
   "outputs": [
    {
     "data": {
      "text/html": [
       "<table class=\"simpletable\">\n",
       "<caption>SARIMAX Results</caption>\n",
       "<tr>\n",
       "  <th>Dep. Variable:</th>        <td>Players</td>     <th>  No. Observations:  </th>    <td>4238</td>   \n",
       "</tr>\n",
       "<tr>\n",
       "  <th>Model:</th>            <td>ARIMA(5, 1, 5)</td>  <th>  Log Likelihood     </th> <td>-50392.919</td>\n",
       "</tr>\n",
       "<tr>\n",
       "  <th>Date:</th>            <td>Tue, 05 Sep 2023</td> <th>  AIC                </th> <td>100807.838</td>\n",
       "</tr>\n",
       "<tr>\n",
       "  <th>Time:</th>                <td>14:24:32</td>     <th>  BIC                </th> <td>100877.706</td>\n",
       "</tr>\n",
       "<tr>\n",
       "  <th>Sample:</th>             <td>11-30-2011</td>    <th>  HQIC               </th> <td>100832.532</td>\n",
       "</tr>\n",
       "<tr>\n",
       "  <th></th>                   <td>- 07-07-2023</td>   <th>                     </th>      <td> </td>    \n",
       "</tr>\n",
       "<tr>\n",
       "  <th>Covariance Type:</th>        <td>opg</td>       <th>                     </th>      <td> </td>    \n",
       "</tr>\n",
       "</table>\n",
       "<table class=\"simpletable\">\n",
       "<tr>\n",
       "     <td></td>       <th>coef</th>     <th>std err</th>      <th>z</th>      <th>P>|z|</th>  <th>[0.025</th>    <th>0.975]</th>  \n",
       "</tr>\n",
       "<tr>\n",
       "  <th>ar.L1</th>  <td>    0.9674</td> <td>    0.027</td> <td>   35.599</td> <td> 0.000</td> <td>    0.914</td> <td>    1.021</td>\n",
       "</tr>\n",
       "<tr>\n",
       "  <th>ar.L2</th>  <td>   -1.5528</td> <td>    0.024</td> <td>  -65.841</td> <td> 0.000</td> <td>   -1.599</td> <td>   -1.507</td>\n",
       "</tr>\n",
       "<tr>\n",
       "  <th>ar.L3</th>  <td>    1.0221</td> <td>    0.039</td> <td>   26.540</td> <td> 0.000</td> <td>    0.947</td> <td>    1.098</td>\n",
       "</tr>\n",
       "<tr>\n",
       "  <th>ar.L4</th>  <td>   -1.0984</td> <td>    0.021</td> <td>  -51.278</td> <td> 0.000</td> <td>   -1.140</td> <td>   -1.056</td>\n",
       "</tr>\n",
       "<tr>\n",
       "  <th>ar.L5</th>  <td>    0.1682</td> <td>    0.025</td> <td>    6.850</td> <td> 0.000</td> <td>    0.120</td> <td>    0.216</td>\n",
       "</tr>\n",
       "<tr>\n",
       "  <th>ma.L1</th>  <td>   -1.3044</td> <td>    0.027</td> <td>  -48.137</td> <td> 0.000</td> <td>   -1.358</td> <td>   -1.251</td>\n",
       "</tr>\n",
       "<tr>\n",
       "  <th>ma.L2</th>  <td>    1.7043</td> <td>    0.031</td> <td>   55.664</td> <td> 0.000</td> <td>    1.644</td> <td>    1.764</td>\n",
       "</tr>\n",
       "<tr>\n",
       "  <th>ma.L3</th>  <td>   -1.4329</td> <td>    0.038</td> <td>  -37.990</td> <td> 0.000</td> <td>   -1.507</td> <td>   -1.359</td>\n",
       "</tr>\n",
       "<tr>\n",
       "  <th>ma.L4</th>  <td>    1.2150</td> <td>    0.026</td> <td>   47.484</td> <td> 0.000</td> <td>    1.165</td> <td>    1.265</td>\n",
       "</tr>\n",
       "<tr>\n",
       "  <th>ma.L5</th>  <td>   -0.4532</td> <td>    0.019</td> <td>  -23.717</td> <td> 0.000</td> <td>   -0.491</td> <td>   -0.416</td>\n",
       "</tr>\n",
       "<tr>\n",
       "  <th>sigma2</th> <td> 1.433e+09</td> <td>  4.5e-11</td> <td> 3.19e+19</td> <td> 0.000</td> <td> 1.43e+09</td> <td> 1.43e+09</td>\n",
       "</tr>\n",
       "</table>\n",
       "<table class=\"simpletable\">\n",
       "<tr>\n",
       "  <th>Ljung-Box (L1) (Q):</th>     <td>0.65</td> <th>  Jarque-Bera (JB):  </th> <td>784666.36</td>\n",
       "</tr>\n",
       "<tr>\n",
       "  <th>Prob(Q):</th>                <td>0.42</td> <th>  Prob(JB):          </th>   <td>0.00</td>   \n",
       "</tr>\n",
       "<tr>\n",
       "  <th>Heteroskedasticity (H):</th> <td>0.85</td> <th>  Skew:              </th>   <td>1.97</td>   \n",
       "</tr>\n",
       "<tr>\n",
       "  <th>Prob(H) (two-sided):</th>    <td>0.00</td> <th>  Kurtosis:          </th>   <td>69.55</td>  \n",
       "</tr>\n",
       "</table><br/><br/>Warnings:<br/>[1] Covariance matrix calculated using the outer product of gradients (complex-step).<br/>[2] Covariance matrix is singular or near-singular, with condition number 1.3e+35. Standard errors may be unstable."
      ],
      "text/latex": [
       "\\begin{center}\n",
       "\\begin{tabular}{lclc}\n",
       "\\toprule\n",
       "\\textbf{Dep. Variable:}          &     Players      & \\textbf{  No. Observations:  } &    4238     \\\\\n",
       "\\textbf{Model:}                  &  ARIMA(5, 1, 5)  & \\textbf{  Log Likelihood     } & -50392.919  \\\\\n",
       "\\textbf{Date:}                   & Tue, 05 Sep 2023 & \\textbf{  AIC                } & 100807.838  \\\\\n",
       "\\textbf{Time:}                   &     14:24:32     & \\textbf{  BIC                } & 100877.706  \\\\\n",
       "\\textbf{Sample:}                 &    11-30-2011    & \\textbf{  HQIC               } & 100832.532  \\\\\n",
       "\\textbf{}                        &   - 07-07-2023   & \\textbf{                     } &             \\\\\n",
       "\\textbf{Covariance Type:}        &       opg        & \\textbf{                     } &             \\\\\n",
       "\\bottomrule\n",
       "\\end{tabular}\n",
       "\\begin{tabular}{lcccccc}\n",
       "                & \\textbf{coef} & \\textbf{std err} & \\textbf{z} & \\textbf{P$> |$z$|$} & \\textbf{[0.025} & \\textbf{0.975]}  \\\\\n",
       "\\midrule\n",
       "\\textbf{ar.L1}  &       0.9674  &        0.027     &    35.599  &         0.000        &        0.914    &        1.021     \\\\\n",
       "\\textbf{ar.L2}  &      -1.5528  &        0.024     &   -65.841  &         0.000        &       -1.599    &       -1.507     \\\\\n",
       "\\textbf{ar.L3}  &       1.0221  &        0.039     &    26.540  &         0.000        &        0.947    &        1.098     \\\\\n",
       "\\textbf{ar.L4}  &      -1.0984  &        0.021     &   -51.278  &         0.000        &       -1.140    &       -1.056     \\\\\n",
       "\\textbf{ar.L5}  &       0.1682  &        0.025     &     6.850  &         0.000        &        0.120    &        0.216     \\\\\n",
       "\\textbf{ma.L1}  &      -1.3044  &        0.027     &   -48.137  &         0.000        &       -1.358    &       -1.251     \\\\\n",
       "\\textbf{ma.L2}  &       1.7043  &        0.031     &    55.664  &         0.000        &        1.644    &        1.764     \\\\\n",
       "\\textbf{ma.L3}  &      -1.4329  &        0.038     &   -37.990  &         0.000        &       -1.507    &       -1.359     \\\\\n",
       "\\textbf{ma.L4}  &       1.2150  &        0.026     &    47.484  &         0.000        &        1.165    &        1.265     \\\\\n",
       "\\textbf{ma.L5}  &      -0.4532  &        0.019     &   -23.717  &         0.000        &       -0.491    &       -0.416     \\\\\n",
       "\\textbf{sigma2} &    1.433e+09  &      4.5e-11     &  3.19e+19  &         0.000        &     1.43e+09    &     1.43e+09     \\\\\n",
       "\\bottomrule\n",
       "\\end{tabular}\n",
       "\\begin{tabular}{lclc}\n",
       "\\textbf{Ljung-Box (L1) (Q):}     & 0.65 & \\textbf{  Jarque-Bera (JB):  } & 784666.36  \\\\\n",
       "\\textbf{Prob(Q):}                & 0.42 & \\textbf{  Prob(JB):          } &    0.00    \\\\\n",
       "\\textbf{Heteroskedasticity (H):} & 0.85 & \\textbf{  Skew:              } &    1.97    \\\\\n",
       "\\textbf{Prob(H) (two-sided):}    & 0.00 & \\textbf{  Kurtosis:          } &   69.55    \\\\\n",
       "\\bottomrule\n",
       "\\end{tabular}\n",
       "%\\caption{SARIMAX Results}\n",
       "\\end{center}\n",
       "\n",
       "Warnings: \\newline\n",
       " [1] Covariance matrix calculated using the outer product of gradients (complex-step). \\newline\n",
       " [2] Covariance matrix is singular or near-singular, with condition number 1.3e+35. Standard errors may be unstable."
      ],
      "text/plain": [
       "<class 'statsmodels.iolib.summary.Summary'>\n",
       "\"\"\"\n",
       "                               SARIMAX Results                                \n",
       "==============================================================================\n",
       "Dep. Variable:                Players   No. Observations:                 4238\n",
       "Model:                 ARIMA(5, 1, 5)   Log Likelihood              -50392.919\n",
       "Date:                Tue, 05 Sep 2023   AIC                         100807.838\n",
       "Time:                        14:24:32   BIC                         100877.706\n",
       "Sample:                    11-30-2011   HQIC                        100832.532\n",
       "                         - 07-07-2023                                         \n",
       "Covariance Type:                  opg                                         \n",
       "==============================================================================\n",
       "                 coef    std err          z      P>|z|      [0.025      0.975]\n",
       "------------------------------------------------------------------------------\n",
       "ar.L1          0.9674      0.027     35.599      0.000       0.914       1.021\n",
       "ar.L2         -1.5528      0.024    -65.841      0.000      -1.599      -1.507\n",
       "ar.L3          1.0221      0.039     26.540      0.000       0.947       1.098\n",
       "ar.L4         -1.0984      0.021    -51.278      0.000      -1.140      -1.056\n",
       "ar.L5          0.1682      0.025      6.850      0.000       0.120       0.216\n",
       "ma.L1         -1.3044      0.027    -48.137      0.000      -1.358      -1.251\n",
       "ma.L2          1.7043      0.031     55.664      0.000       1.644       1.764\n",
       "ma.L3         -1.4329      0.038    -37.990      0.000      -1.507      -1.359\n",
       "ma.L4          1.2150      0.026     47.484      0.000       1.165       1.265\n",
       "ma.L5         -0.4532      0.019    -23.717      0.000      -0.491      -0.416\n",
       "sigma2      1.433e+09    4.5e-11   3.19e+19      0.000    1.43e+09    1.43e+09\n",
       "===================================================================================\n",
       "Ljung-Box (L1) (Q):                   0.65   Jarque-Bera (JB):            784666.36\n",
       "Prob(Q):                              0.42   Prob(JB):                         0.00\n",
       "Heteroskedasticity (H):               0.85   Skew:                             1.97\n",
       "Prob(H) (two-sided):                  0.00   Kurtosis:                        69.55\n",
       "===================================================================================\n",
       "\n",
       "Warnings:\n",
       "[1] Covariance matrix calculated using the outer product of gradients (complex-step).\n",
       "[2] Covariance matrix is singular or near-singular, with condition number 1.3e+35. Standard errors may be unstable.\n",
       "\"\"\""
      ]
     },
     "execution_count": 178,
     "metadata": {},
     "output_type": "execute_result"
    }
   ],
   "source": [
    "model= ARIMA(train['Players'], order=(5,1,5))\n",
    "results = model.fit()\n",
    "results.summary()"
   ]
  },
  {
   "cell_type": "code",
   "execution_count": 95,
   "metadata": {},
   "outputs": [
    {
     "ename": "NotImplementedError",
     "evalue": "",
     "output_type": "error",
     "traceback": [
      "\u001b[1;31m---------------------------------------------------------------------------\u001b[0m",
      "\u001b[1;31mNotImplementedError\u001b[0m                       Traceback (most recent call last)",
      "\u001b[1;32md:\\SEMESTER 5\\IS MRSI\\csgohehe\\csgo-countplayer\\code.ipynb Cell 46\u001b[0m in \u001b[0;36m<cell line: 4>\u001b[1;34m()\u001b[0m\n\u001b[0;32m      <a href='vscode-notebook-cell:/d%3A/SEMESTER%205/IS%20MRSI/csgohehe/csgo-countplayer/code.ipynb#X62sZmlsZQ%3D%3D?line=1'>2</a>\u001b[0m end\u001b[39m=\u001b[39m\u001b[39mlen\u001b[39m(train)\u001b[39m+\u001b[39m\u001b[39mlen\u001b[39m(test)\u001b[39m-\u001b[39m\u001b[39m1\u001b[39m\n\u001b[0;32m      <a href='vscode-notebook-cell:/d%3A/SEMESTER%205/IS%20MRSI/csgohehe/csgo-countplayer/code.ipynb#X62sZmlsZQ%3D%3D?line=2'>3</a>\u001b[0m params \u001b[39m=\u001b[39m results\u001b[39m.\u001b[39mparams\n\u001b[1;32m----> <a href='vscode-notebook-cell:/d%3A/SEMESTER%205/IS%20MRSI/csgohehe/csgo-countplayer/code.ipynb#X62sZmlsZQ%3D%3D?line=3'>4</a>\u001b[0m pred\u001b[39m=\u001b[39mmodel\u001b[39m.\u001b[39;49mpredict(start\u001b[39m=\u001b[39;49mstart, end\u001b[39m=\u001b[39;49mend,typ\u001b[39m=\u001b[39;49m\u001b[39m\"\u001b[39;49m\u001b[39mlevels\u001b[39;49m\u001b[39m\"\u001b[39;49m, params\u001b[39m=\u001b[39;49mparams)\n\u001b[0;32m      <a href='vscode-notebook-cell:/d%3A/SEMESTER%205/IS%20MRSI/csgohehe/csgo-countplayer/code.ipynb#X62sZmlsZQ%3D%3D?line=4'>5</a>\u001b[0m \u001b[39mprint\u001b[39m(pred)\n\u001b[0;32m      <a href='vscode-notebook-cell:/d%3A/SEMESTER%205/IS%20MRSI/csgohehe/csgo-countplayer/code.ipynb#X62sZmlsZQ%3D%3D?line=5'>6</a>\u001b[0m pred\u001b[39m.\u001b[39mindex\u001b[39m=\u001b[39mcsdf\u001b[39m.\u001b[39mindex[start:end\u001b[39m+\u001b[39m\u001b[39m1\u001b[39m]\n",
      "File \u001b[1;32m~\\AppData\\Roaming\\Python\\Python39\\site-packages\\statsmodels\\base\\model.py:261\u001b[0m, in \u001b[0;36mModel.predict\u001b[1;34m(self, params, exog, *args, **kwargs)\u001b[0m\n\u001b[0;32m    255\u001b[0m \u001b[39mdef\u001b[39;00m \u001b[39mpredict\u001b[39m(\u001b[39mself\u001b[39m, params, exog\u001b[39m=\u001b[39m\u001b[39mNone\u001b[39;00m, \u001b[39m*\u001b[39margs, \u001b[39m*\u001b[39m\u001b[39m*\u001b[39mkwargs):\n\u001b[0;32m    256\u001b[0m     \u001b[39m\"\"\"\u001b[39;00m\n\u001b[0;32m    257\u001b[0m \u001b[39m    After a model has been fit predict returns the fitted values.\u001b[39;00m\n\u001b[0;32m    258\u001b[0m \n\u001b[0;32m    259\u001b[0m \u001b[39m    This is a placeholder intended to be overwritten by individual models.\u001b[39;00m\n\u001b[0;32m    260\u001b[0m \u001b[39m    \"\"\"\u001b[39;00m\n\u001b[1;32m--> 261\u001b[0m     \u001b[39mraise\u001b[39;00m \u001b[39mNotImplementedError\u001b[39;00m\n",
      "\u001b[1;31mNotImplementedError\u001b[0m: "
     ]
    }
   ],
   "source": [
    "start = len(train)\n",
    "end=len(train)+len(test)-1\n",
    "params = results.params\n",
    "pred=model.predict(start=start, end=end,typ=\"levels\", params=params)\n",
    "print(pred)\n",
    "pred.index=csdf.index[start:end+1]\n",
    "print(pred)"
   ]
  },
  {
   "cell_type": "code",
   "execution_count": 179,
   "metadata": {},
   "outputs": [
    {
     "name": "stdout",
     "output_type": "stream",
     "text": [
      "2023-07-08    1.216531e+06\n",
      "2023-07-09    1.213931e+06\n",
      "2023-07-10    1.197508e+06\n",
      "2023-07-11    1.187194e+06\n",
      "2023-07-12    1.169506e+06\n",
      "2023-07-13    1.160484e+06\n",
      "2023-07-14    1.186281e+06\n",
      "2023-07-15    1.215732e+06\n",
      "2023-07-16    1.212636e+06\n",
      "2023-07-17    1.197211e+06\n",
      "2023-07-18    1.187348e+06\n",
      "2023-07-19    1.170586e+06\n",
      "2023-07-20    1.162274e+06\n",
      "2023-07-21    1.186602e+06\n",
      "2023-07-22    1.214148e+06\n",
      "2023-07-23    1.211274e+06\n",
      "2023-07-24    1.196898e+06\n",
      "2023-07-25    1.187489e+06\n",
      "2023-07-26    1.171610e+06\n",
      "2023-07-27    1.163955e+06\n",
      "2023-07-28    1.186897e+06\n",
      "2023-07-29    1.212661e+06\n",
      "2023-07-30    1.209996e+06\n",
      "2023-07-31    1.196596e+06\n",
      "2023-08-01    1.187622e+06\n",
      "2023-08-02    1.172582e+06\n",
      "2023-08-03    1.165536e+06\n",
      "2023-08-04    1.187167e+06\n",
      "2023-08-05    1.211267e+06\n",
      "2023-08-06    1.208796e+06\n",
      "2023-08-07    1.196306e+06\n",
      "2023-08-08    1.187746e+06\n",
      "2023-08-09    1.173506e+06\n",
      "2023-08-10    1.167021e+06\n",
      "2023-08-11    1.187416e+06\n",
      "2023-08-12    1.209958e+06\n",
      "2023-08-13    1.207670e+06\n",
      "2023-08-14    1.196026e+06\n",
      "2023-08-15    1.187864e+06\n",
      "2023-08-16    1.174382e+06\n",
      "2023-08-17    1.168417e+06\n",
      "2023-08-18    1.187643e+06\n",
      "2023-08-19    1.208731e+06\n",
      "2023-08-20    1.206613e+06\n",
      "2023-08-21    1.195756e+06\n",
      "2023-08-22    1.187975e+06\n",
      "2023-08-23    1.175214e+06\n",
      "2023-08-24    1.169728e+06\n",
      "2023-08-25    1.187852e+06\n",
      "2023-08-26    1.207579e+06\n",
      "2023-08-27    1.205621e+06\n",
      "2023-08-28    1.195497e+06\n",
      "2023-08-29    1.188080e+06\n",
      "2023-08-30    1.176003e+06\n",
      "2023-08-31    1.170961e+06\n",
      "Freq: D, Name: predicted_mean, dtype: float64\n"
     ]
    }
   ],
   "source": [
    "start=len(train)\n",
    "end = len(train) + len(test) - 1\n",
    "\n",
    "# Use the 'forecast()' method to make predictions\n",
    "pred = results.forecast(steps=len(test))\n",
    "\n",
    "# 'pred' contains the point forecasts\n",
    "print(pred)"
   ]
  },
  {
   "cell_type": "code",
   "execution_count": 181,
   "metadata": {},
   "outputs": [],
   "source": [
    "start_date = '2023-09-1'\n",
    "end_date = '2023-10-1'  # or any date in September you want to predict\n",
    "future_dates = pd.date_range(start=start_date, end=end_date)"
   ]
  },
  {
   "cell_type": "code",
   "execution_count": 182,
   "metadata": {},
   "outputs": [],
   "source": [
    "future_pred = results.forecast(steps=len(future_dates))"
   ]
  },
  {
   "cell_type": "code",
   "execution_count": 183,
   "metadata": {},
   "outputs": [
    {
     "data": {
      "image/png": "[encoded data removed]",
      "text/plain": [
       "<Figure size 864x432 with 1 Axes>"
      ]
     },
     "metadata": {
      "needs_background": "light"
     },
     "output_type": "display_data"
    }
   ],
   "source": [
    "import matplotlib.pyplot as plt\n",
    "\n",
    "# Assuming you have the actual values in 'test' and 'pred' contains the point forecasts\n",
    "plt.figure(figsize=(12, 6))\n",
    "plt.plot(test.index, test, label='Actual', marker='o')\n",
    "plt.plot(test.index, pred, label='Predicted', linestyle='--', marker='o')\n",
    "plt.xlabel('Date')\n",
    "plt.ylabel('Value')\n",
    "plt.title('ARIMA Model Predictions vs. Actual')\n",
    "plt.legend()\n",
    "plt.grid(True)\n",
    "plt.show()\n"
   ]
  },
  {
   "cell_type": "code",
   "execution_count": 184,
   "metadata": {},
   "outputs": [
    {
     "data": {
      "image/png": "[encoded data removed]",
      "text/plain": [
       "<Figure size 864x432 with 1 Axes>"
      ]
     },
     "metadata": {
      "needs_background": "light"
     },
     "output_type": "display_data"
    }
   ],
   "source": [
    "import matplotlib.pyplot as plt\n",
    "\n",
    "# Assuming you have the actual values in 'test' and 'pred' contains the point forecasts\n",
    "plt.figure(figsize=(12, 6))\n",
    "plt.plot(test.index, test, label='Actual', marker='o')\n",
    "plt.plot(test.index, pred, label='Test', marker='o')\n",
    "plt.plot(future_dates, future_pred, label='Predicted', linestyle='--', marker='o')\n",
    "plt.xlabel('Date')\n",
    "plt.ylabel('Value')\n",
    "plt.title('ARIMA Model Predictions vs. Actual')\n",
    "plt.legend()\n",
    "plt.grid(True)\n",
    "plt.show()"
   ]
  }
 ],
 "metadata": {
  "kernelspec": {
   "display_name": "base",
   "language": "python",
   "name": "python3"
  },
  "language_info": {
   "codemirror_mode": {
    "name": "ipython",
    "version": 3
   },
   "file_extension": ".py",
   "mimetype": "text/x-python",
   "name": "python",
   "nbconvert_exporter": "python",
   "pygments_lexer": "ipython3",
   "version": "3.9.12"
  },
  "orig_nbformat": 4
 },
 "nbformat": 4,
 "nbformat_minor": 2
}
