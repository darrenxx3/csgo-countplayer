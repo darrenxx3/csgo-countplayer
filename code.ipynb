{
 "cells": [
  {
   "cell_type": "code",
   "execution_count": 63,
   "metadata": {},
   "outputs": [],
   "source": [
    "import pandas as pd\n",
    "import numpy as np\n",
    "import seaborn as sns\n",
    "import matplotlib.pyplot as plt\n",
    "from statsmodels.tsa.stattools import adfuller\n",
    "from statsmodels.tsa.seasonal import seasonal_decompose\n",
    "from statsmodels.tsa.stattools import acf, pacf\n",
    "from statsmodels.graphics.tsaplots import plot_acf, plot_pacf\n",
    "from statsmodels.tsa.arima.model import ARIMA"
   ]
  },
  {
   "cell_type": "code",
   "execution_count": 64,
   "metadata": {},
   "outputs": [
    {
     "name": "stdout",
     "output_type": "stream",
     "text": [
      "0.12.2\n"
     ]
    }
   ],
   "source": [
    "print(sns.__version__)"
   ]
  },
  {
   "cell_type": "code",
   "execution_count": 65,
   "metadata": {},
   "outputs": [
    {
     "data": {
      "text/html": [
       "<div>\n",
       "<style scoped>\n",
       "    .dataframe tbody tr th:only-of-type {\n",
       "        vertical-align: middle;\n",
       "    }\n",
       "\n",
       "    .dataframe tbody tr th {\n",
       "        vertical-align: top;\n",
       "    }\n",
       "\n",
       "    .dataframe thead th {\n",
       "        text-align: right;\n",
       "    }\n",
       "</style>\n",
       "<table border=\"1\" class=\"dataframe\">\n",
       "  <thead>\n",
       "    <tr style=\"text-align: right;\">\n",
       "      <th></th>\n",
       "      <th>DateTime</th>\n",
       "      <th>Players</th>\n",
       "      <th>Average Players</th>\n",
       "    </tr>\n",
       "  </thead>\n",
       "  <tbody>\n",
       "    <tr>\n",
       "      <th>0</th>\n",
       "      <td>2011-11-30 00:00:00</td>\n",
       "      <td>680.0</td>\n",
       "      <td>NaN</td>\n",
       "    </tr>\n",
       "    <tr>\n",
       "      <th>1</th>\n",
       "      <td>2011-12-01 00:00:00</td>\n",
       "      <td>NaN</td>\n",
       "      <td>NaN</td>\n",
       "    </tr>\n",
       "    <tr>\n",
       "      <th>2</th>\n",
       "      <td>2011-12-02 00:00:00</td>\n",
       "      <td>NaN</td>\n",
       "      <td>NaN</td>\n",
       "    </tr>\n",
       "    <tr>\n",
       "      <th>3</th>\n",
       "      <td>2011-12-03 00:00:00</td>\n",
       "      <td>NaN</td>\n",
       "      <td>NaN</td>\n",
       "    </tr>\n",
       "    <tr>\n",
       "      <th>4</th>\n",
       "      <td>2011-12-04 00:00:00</td>\n",
       "      <td>NaN</td>\n",
       "      <td>NaN</td>\n",
       "    </tr>\n",
       "  </tbody>\n",
       "</table>\n",
       "</div>"
      ],
      "text/plain": [
       "              DateTime  Players  Average Players\n",
       "0  2011-11-30 00:00:00    680.0              NaN\n",
       "1  2011-12-01 00:00:00      NaN              NaN\n",
       "2  2011-12-02 00:00:00      NaN              NaN\n",
       "3  2011-12-03 00:00:00      NaN              NaN\n",
       "4  2011-12-04 00:00:00      NaN              NaN"
      ]
     },
     "execution_count": 65,
     "metadata": {},
     "output_type": "execute_result"
    }
   ],
   "source": [
    "df = pd.read_csv('./dataset/playerdata.csv')\n",
    "df.head(5)"
   ]
  },
  {
   "cell_type": "code",
   "execution_count": 66,
   "metadata": {},
   "outputs": [
    {
     "name": "stdout",
     "output_type": "stream",
     "text": [
      "<class 'pandas.core.frame.DataFrame'>\n",
      "RangeIndex: 4293 entries, 0 to 4292\n",
      "Data columns (total 3 columns):\n",
      " #   Column           Non-Null Count  Dtype  \n",
      "---  ------           --------------  -----  \n",
      " 0   DateTime         4293 non-null   object \n",
      " 1   Players          4130 non-null   float64\n",
      " 2   Average Players  343 non-null    float64\n",
      "dtypes: float64(2), object(1)\n",
      "memory usage: 100.7+ KB\n"
     ]
    }
   ],
   "source": [
    "df.info()"
   ]
  },
  {
   "cell_type": "code",
   "execution_count": 67,
   "metadata": {},
   "outputs": [
    {
     "data": {
      "text/plain": [
       "(4293, 3)"
      ]
     },
     "execution_count": 67,
     "metadata": {},
     "output_type": "execute_result"
    }
   ],
   "source": [
    "df.shape"
   ]
  },
  {
   "cell_type": "code",
   "execution_count": 68,
   "metadata": {},
   "outputs": [],
   "source": [
    "df['DateTime'] = pd.to_datetime(df['DateTime'])"
   ]
  },
  {
   "cell_type": "code",
   "execution_count": 69,
   "metadata": {},
   "outputs": [],
   "source": [
    "df['DateTime'] = df['DateTime'].dt.date\n"
   ]
  },
  {
   "cell_type": "code",
   "execution_count": 70,
   "metadata": {},
   "outputs": [
    {
     "name": "stdout",
     "output_type": "stream",
     "text": [
      "DateTime            object\n",
      "Players            float64\n",
      "Average Players    float64\n",
      "dtype: object\n"
     ]
    }
   ],
   "source": [
    "print(df.dtypes)"
   ]
  },
  {
   "cell_type": "code",
   "execution_count": 71,
   "metadata": {},
   "outputs": [
    {
     "data": {
      "text/html": [
       "<div>\n",
       "<style scoped>\n",
       "    .dataframe tbody tr th:only-of-type {\n",
       "        vertical-align: middle;\n",
       "    }\n",
       "\n",
       "    .dataframe tbody tr th {\n",
       "        vertical-align: top;\n",
       "    }\n",
       "\n",
       "    .dataframe thead th {\n",
       "        text-align: right;\n",
       "    }\n",
       "</style>\n",
       "<table border=\"1\" class=\"dataframe\">\n",
       "  <thead>\n",
       "    <tr style=\"text-align: right;\">\n",
       "      <th></th>\n",
       "      <th>DateTime</th>\n",
       "      <th>Players</th>\n",
       "      <th>Average Players</th>\n",
       "    </tr>\n",
       "  </thead>\n",
       "  <tbody>\n",
       "    <tr>\n",
       "      <th>0</th>\n",
       "      <td>2011-11-30</td>\n",
       "      <td>680.0</td>\n",
       "      <td>0.0</td>\n",
       "    </tr>\n",
       "    <tr>\n",
       "      <th>1</th>\n",
       "      <td>2011-12-01</td>\n",
       "      <td>0.0</td>\n",
       "      <td>0.0</td>\n",
       "    </tr>\n",
       "    <tr>\n",
       "      <th>2</th>\n",
       "      <td>2011-12-02</td>\n",
       "      <td>0.0</td>\n",
       "      <td>0.0</td>\n",
       "    </tr>\n",
       "    <tr>\n",
       "      <th>3</th>\n",
       "      <td>2011-12-03</td>\n",
       "      <td>0.0</td>\n",
       "      <td>0.0</td>\n",
       "    </tr>\n",
       "    <tr>\n",
       "      <th>4</th>\n",
       "      <td>2011-12-04</td>\n",
       "      <td>0.0</td>\n",
       "      <td>0.0</td>\n",
       "    </tr>\n",
       "    <tr>\n",
       "      <th>5</th>\n",
       "      <td>2011-12-05</td>\n",
       "      <td>0.0</td>\n",
       "      <td>0.0</td>\n",
       "    </tr>\n",
       "    <tr>\n",
       "      <th>6</th>\n",
       "      <td>2011-12-06</td>\n",
       "      <td>0.0</td>\n",
       "      <td>0.0</td>\n",
       "    </tr>\n",
       "    <tr>\n",
       "      <th>7</th>\n",
       "      <td>2011-12-07</td>\n",
       "      <td>0.0</td>\n",
       "      <td>0.0</td>\n",
       "    </tr>\n",
       "    <tr>\n",
       "      <th>8</th>\n",
       "      <td>2011-12-08</td>\n",
       "      <td>0.0</td>\n",
       "      <td>0.0</td>\n",
       "    </tr>\n",
       "    <tr>\n",
       "      <th>9</th>\n",
       "      <td>2011-12-09</td>\n",
       "      <td>0.0</td>\n",
       "      <td>0.0</td>\n",
       "    </tr>\n",
       "  </tbody>\n",
       "</table>\n",
       "</div>"
      ],
      "text/plain": [
       "     DateTime  Players  Average Players\n",
       "0  2011-11-30    680.0              0.0\n",
       "1  2011-12-01      0.0              0.0\n",
       "2  2011-12-02      0.0              0.0\n",
       "3  2011-12-03      0.0              0.0\n",
       "4  2011-12-04      0.0              0.0\n",
       "5  2011-12-05      0.0              0.0\n",
       "6  2011-12-06      0.0              0.0\n",
       "7  2011-12-07      0.0              0.0\n",
       "8  2011-12-08      0.0              0.0\n",
       "9  2011-12-09      0.0              0.0"
      ]
     },
     "execution_count": 71,
     "metadata": {},
     "output_type": "execute_result"
    }
   ],
   "source": [
    "csdf = df.fillna(0)\n",
    "csdf.head(10)"
   ]
  },
  {
   "cell_type": "code",
   "execution_count": 72,
   "metadata": {},
   "outputs": [
    {
     "name": "stdout",
     "output_type": "stream",
     "text": [
      "     DateTime  Players  Average Players\n",
      "0  2011-11-30    680.0              0.0\n",
      "1  2011-12-01      0.0              0.0\n",
      "2  2011-12-02      0.0              0.0\n",
      "3  2011-12-03      0.0              0.0\n",
      "4  2011-12-04      0.0              0.0\n"
     ]
    }
   ],
   "source": [
    "print(csdf.head())"
   ]
  },
  {
   "cell_type": "code",
   "execution_count": 73,
   "metadata": {},
   "outputs": [
    {
     "data": {
      "text/plain": [
       "DateTime           0\n",
       "Players            0\n",
       "Average Players    0\n",
       "dtype: int64"
      ]
     },
     "execution_count": 73,
     "metadata": {},
     "output_type": "execute_result"
    }
   ],
   "source": [
    "csdf.isnull().sum()"
   ]
  },
  {
   "cell_type": "code",
   "execution_count": 74,
   "metadata": {},
   "outputs": [
    {
     "name": "stdout",
     "output_type": "stream",
     "text": [
      "<class 'pandas.core.frame.DataFrame'>\n",
      "RangeIndex: 4293 entries, 0 to 4292\n",
      "Data columns (total 3 columns):\n",
      " #   Column           Non-Null Count  Dtype  \n",
      "---  ------           --------------  -----  \n",
      " 0   DateTime         4293 non-null   object \n",
      " 1   Players          4293 non-null   float64\n",
      " 2   Average Players  4293 non-null   float64\n",
      "dtypes: float64(2), object(1)\n",
      "memory usage: 100.7+ KB\n"
     ]
    }
   ],
   "source": [
    "csdf.info()"
   ]
  },
  {
   "cell_type": "code",
   "execution_count": 75,
   "metadata": {},
   "outputs": [
    {
     "data": {
      "text/plain": [
       "<Axes: >"
      ]
     },
     "execution_count": 75,
     "metadata": {},
     "output_type": "execute_result"
    },
    {
     "data": {
      "image/png": "[encoded data removed]",
      "text/plain": [
       "<Figure size 720x360 with 1 Axes>"
      ]
     },
     "metadata": {
      "needs_background": "light"
     },
     "output_type": "display_data"
    }
   ],
   "source": [
    "csdf.plot(figsize=(10,5))"
   ]
  },
  {
   "cell_type": "code",
   "execution_count": 76,
   "metadata": {},
   "outputs": [
    {
     "data": {
      "image/png": "[encoded data removed]",
      "text/plain": [
       "<Figure size 432x288 with 1 Axes>"
      ]
     },
     "metadata": {
      "needs_background": "light"
     },
     "output_type": "display_data"
    }
   ],
   "source": [
    "sns.lineplot(data=csdf, x=\"DateTime\", y=\"Average Players\")\n",
    "plt.title(\"Average Players on CSGO\")\n",
    "plt.show()"
   ]
  },
  {
   "cell_type": "code",
   "execution_count": 77,
   "metadata": {},
   "outputs": [
    {
     "data": {
      "image/png": "[encoded data removed]",
      "text/plain": [
       "<Figure size 432x288 with 1 Axes>"
      ]
     },
     "metadata": {
      "needs_background": "light"
     },
     "output_type": "display_data"
    }
   ],
   "source": [
    "sns.lineplot(data=csdf, x=\"DateTime\", y=\"Players\")\n",
    "plt.title(\"Players count on CSGO from 2012-now\")\n",
    "plt.show()"
   ]
  },
  {
   "cell_type": "code",
   "execution_count": 78,
   "metadata": {},
   "outputs": [],
   "source": [
    "#stationary \n",
    "def ad_test(csdf):\n",
    "    csdftest = adfuller(csdf, autolag='AIC')\n",
    "    print(\"1. ADF : \", csdftest[0])\n",
    "    print(\"2. P-Value : \", csdftest[1])\n",
    "    print(\"3. lags : \", csdftest[2])\n",
    "    print(\"4. num of observations : \", csdftest[3])\n",
    "    print(\"5. critical values : \")\n",
    "    for key , val in csdftest[4].items():\n",
    "        print(\"\\t\", key, \": \",val)"
   ]
  },
  {
   "cell_type": "code",
   "execution_count": 79,
   "metadata": {},
   "outputs": [
    {
     "name": "stdout",
     "output_type": "stream",
     "text": [
      "1. ADF :  -1.6320238043353077\n",
      "2. P-Value :  0.4664315515738108\n",
      "3. lags :  31\n",
      "4. num of observations :  4261\n",
      "5. critical values : \n",
      "\t 1% :  -3.4318856122567074\n",
      "\t 5% :  -2.8622185486666925\n",
      "\t 10% :  -2.567131196722582\n"
     ]
    }
   ],
   "source": [
    "ad_test(csdf['Players'])"
   ]
  },
  {
   "cell_type": "code",
   "execution_count": 80,
   "metadata": {},
   "outputs": [],
   "source": [
    "from pmdarima import auto_arima\n",
    "\n",
    "import warnings\n",
    "warnings.filterwarnings(\"ignore\")"
   ]
  },
  {
   "cell_type": "code",
   "execution_count": 81,
   "metadata": {},
   "outputs": [
    {
     "name": "stdout",
     "output_type": "stream",
     "text": [
      "Performing stepwise search to minimize aic\n",
      " ARIMA(2,1,2)(0,0,0)[0] intercept   : AIC=103028.625, Time=2.12 sec\n",
      " ARIMA(0,1,0)(0,0,0)[0] intercept   : AIC=104062.194, Time=0.06 sec\n",
      " ARIMA(1,1,0)(0,0,0)[0] intercept   : AIC=104032.815, Time=0.07 sec\n",
      " ARIMA(0,1,1)(0,0,0)[0] intercept   : AIC=104011.031, Time=0.16 sec\n",
      " ARIMA(0,1,0)(0,0,0)[0]             : AIC=104060.294, Time=0.05 sec\n",
      " ARIMA(1,1,2)(0,0,0)[0] intercept   : AIC=103475.065, Time=0.78 sec\n",
      " ARIMA(2,1,1)(0,0,0)[0] intercept   : AIC=103387.091, Time=0.79 sec\n",
      " ARIMA(3,1,2)(0,0,0)[0] intercept   : AIC=102772.253, Time=2.62 sec\n",
      " ARIMA(3,1,1)(0,0,0)[0] intercept   : AIC=103272.049, Time=0.86 sec\n",
      " ARIMA(4,1,2)(0,0,0)[0] intercept   : AIC=102557.557, Time=3.71 sec\n",
      " ARIMA(4,1,1)(0,0,0)[0] intercept   : AIC=103114.370, Time=0.82 sec\n",
      " ARIMA(5,1,2)(0,0,0)[0] intercept   : AIC=102523.403, Time=4.95 sec\n",
      " ARIMA(5,1,1)(0,0,0)[0] intercept   : AIC=102941.486, Time=1.04 sec\n",
      " ARIMA(5,1,3)(0,0,0)[0] intercept   : AIC=102511.464, Time=5.44 sec\n",
      " ARIMA(4,1,3)(0,0,0)[0] intercept   : AIC=102686.480, Time=5.34 sec\n",
      " ARIMA(5,1,4)(0,0,0)[0] intercept   : AIC=102340.534, Time=6.03 sec\n",
      " ARIMA(4,1,4)(0,0,0)[0] intercept   : AIC=102545.769, Time=4.79 sec\n",
      " ARIMA(5,1,5)(0,0,0)[0] intercept   : AIC=102228.327, Time=7.57 sec\n",
      " ARIMA(4,1,5)(0,0,0)[0] intercept   : AIC=102498.321, Time=6.96 sec\n",
      " ARIMA(5,1,5)(0,0,0)[0]             : AIC=102231.735, Time=6.85 sec\n",
      "\n",
      "Best model:  ARIMA(5,1,5)(0,0,0)[0] intercept\n",
      "Total fit time: 61.005 seconds\n"
     ]
    },
    {
     "data": {
      "text/html": [
       "<table class=\"simpletable\">\n",
       "<caption>SARIMAX Results</caption>\n",
       "<tr>\n",
       "  <th>Dep. Variable:</th>           <td>y</td>        <th>  No. Observations:  </th>    <td>4293</td>   \n",
       "</tr>\n",
       "<tr>\n",
       "  <th>Model:</th>           <td>SARIMAX(5, 1, 5)</td> <th>  Log Likelihood     </th> <td>-51102.163</td>\n",
       "</tr>\n",
       "<tr>\n",
       "  <th>Date:</th>            <td>Fri, 01 Sep 2023</td> <th>  AIC                </th> <td>102228.327</td>\n",
       "</tr>\n",
       "<tr>\n",
       "  <th>Time:</th>                <td>11:34:48</td>     <th>  BIC                </th> <td>102304.701</td>\n",
       "</tr>\n",
       "<tr>\n",
       "  <th>Sample:</th>                  <td>0</td>        <th>  HQIC               </th> <td>102255.303</td>\n",
       "</tr>\n",
       "<tr>\n",
       "  <th></th>                      <td> - 4293</td>     <th>                     </th>      <td> </td>    \n",
       "</tr>\n",
       "<tr>\n",
       "  <th>Covariance Type:</th>        <td>opg</td>       <th>                     </th>      <td> </td>    \n",
       "</tr>\n",
       "</table>\n",
       "<table class=\"simpletable\">\n",
       "<tr>\n",
       "      <td></td>         <th>coef</th>     <th>std err</th>      <th>z</th>      <th>P>|z|</th>  <th>[0.025</th>    <th>0.975]</th>  \n",
       "</tr>\n",
       "<tr>\n",
       "  <th>intercept</th> <td>  499.1954</td> <td>  431.958</td> <td>    1.156</td> <td> 0.248</td> <td> -347.427</td> <td> 1345.818</td>\n",
       "</tr>\n",
       "<tr>\n",
       "  <th>ar.L1</th>     <td>    1.0201</td> <td>    0.027</td> <td>   37.754</td> <td> 0.000</td> <td>    0.967</td> <td>    1.073</td>\n",
       "</tr>\n",
       "<tr>\n",
       "  <th>ar.L2</th>     <td>   -1.6038</td> <td>    0.022</td> <td>  -71.488</td> <td> 0.000</td> <td>   -1.648</td> <td>   -1.560</td>\n",
       "</tr>\n",
       "<tr>\n",
       "  <th>ar.L3</th>     <td>    1.1100</td> <td>    0.038</td> <td>   29.488</td> <td> 0.000</td> <td>    1.036</td> <td>    1.184</td>\n",
       "</tr>\n",
       "<tr>\n",
       "  <th>ar.L4</th>     <td>   -1.1470</td> <td>    0.021</td> <td>  -54.799</td> <td> 0.000</td> <td>   -1.188</td> <td>   -1.106</td>\n",
       "</tr>\n",
       "<tr>\n",
       "  <th>ar.L5</th>     <td>    0.2187</td> <td>    0.025</td> <td>    8.898</td> <td> 0.000</td> <td>    0.171</td> <td>    0.267</td>\n",
       "</tr>\n",
       "<tr>\n",
       "  <th>ma.L1</th>     <td>   -1.3650</td> <td>    0.026</td> <td>  -51.633</td> <td> 0.000</td> <td>   -1.417</td> <td>   -1.313</td>\n",
       "</tr>\n",
       "<tr>\n",
       "  <th>ma.L2</th>     <td>    1.7738</td> <td>    0.028</td> <td>   62.991</td> <td> 0.000</td> <td>    1.719</td> <td>    1.829</td>\n",
       "</tr>\n",
       "<tr>\n",
       "  <th>ma.L3</th>     <td>   -1.5426</td> <td>    0.035</td> <td>  -44.557</td> <td> 0.000</td> <td>   -1.610</td> <td>   -1.475</td>\n",
       "</tr>\n",
       "<tr>\n",
       "  <th>ma.L4</th>     <td>    1.2743</td> <td>    0.024</td> <td>   52.746</td> <td> 0.000</td> <td>    1.227</td> <td>    1.322</td>\n",
       "</tr>\n",
       "<tr>\n",
       "  <th>ma.L5</th>     <td>   -0.5001</td> <td>    0.018</td> <td>  -27.238</td> <td> 0.000</td> <td>   -0.536</td> <td>   -0.464</td>\n",
       "</tr>\n",
       "<tr>\n",
       "  <th>sigma2</th>    <td>  1.47e+09</td> <td>    0.004</td> <td> 3.51e+11</td> <td> 0.000</td> <td> 1.47e+09</td> <td> 1.47e+09</td>\n",
       "</tr>\n",
       "</table>\n",
       "<table class=\"simpletable\">\n",
       "<tr>\n",
       "  <th>Ljung-Box (L1) (Q):</th>     <td>0.49</td> <th>  Jarque-Bera (JB):  </th> <td>746879.00</td>\n",
       "</tr>\n",
       "<tr>\n",
       "  <th>Prob(Q):</th>                <td>0.49</td> <th>  Prob(JB):          </th>   <td>0.00</td>   \n",
       "</tr>\n",
       "<tr>\n",
       "  <th>Heteroskedasticity (H):</th> <td>0.92</td> <th>  Skew:              </th>   <td>1.50</td>   \n",
       "</tr>\n",
       "<tr>\n",
       "  <th>Prob(H) (two-sided):</th>    <td>0.12</td> <th>  Kurtosis:          </th>   <td>67.56</td>  \n",
       "</tr>\n",
       "</table><br/><br/>Warnings:<br/>[1] Covariance matrix calculated using the outer product of gradients (complex-step).<br/>[2] Covariance matrix is singular or near-singular, with condition number 5.92e+25. Standard errors may be unstable."
      ],
      "text/latex": [
       "\\begin{center}\n",
       "\\begin{tabular}{lclc}\n",
       "\\toprule\n",
       "\\textbf{Dep. Variable:}          &        y         & \\textbf{  No. Observations:  } &    4293     \\\\\n",
       "\\textbf{Model:}                  & SARIMAX(5, 1, 5) & \\textbf{  Log Likelihood     } & -51102.163  \\\\\n",
       "\\textbf{Date:}                   & Fri, 01 Sep 2023 & \\textbf{  AIC                } & 102228.327  \\\\\n",
       "\\textbf{Time:}                   &     11:34:48     & \\textbf{  BIC                } & 102304.701  \\\\\n",
       "\\textbf{Sample:}                 &        0         & \\textbf{  HQIC               } & 102255.303  \\\\\n",
       "\\textbf{}                        &      - 4293      & \\textbf{                     } &             \\\\\n",
       "\\textbf{Covariance Type:}        &       opg        & \\textbf{                     } &             \\\\\n",
       "\\bottomrule\n",
       "\\end{tabular}\n",
       "\\begin{tabular}{lcccccc}\n",
       "                   & \\textbf{coef} & \\textbf{std err} & \\textbf{z} & \\textbf{P$> |$z$|$} & \\textbf{[0.025} & \\textbf{0.975]}  \\\\\n",
       "\\midrule\n",
       "\\textbf{intercept} &     499.1954  &      431.958     &     1.156  &         0.248        &     -347.427    &     1345.818     \\\\\n",
       "\\textbf{ar.L1}     &       1.0201  &        0.027     &    37.754  &         0.000        &        0.967    &        1.073     \\\\\n",
       "\\textbf{ar.L2}     &      -1.6038  &        0.022     &   -71.488  &         0.000        &       -1.648    &       -1.560     \\\\\n",
       "\\textbf{ar.L3}     &       1.1100  &        0.038     &    29.488  &         0.000        &        1.036    &        1.184     \\\\\n",
       "\\textbf{ar.L4}     &      -1.1470  &        0.021     &   -54.799  &         0.000        &       -1.188    &       -1.106     \\\\\n",
       "\\textbf{ar.L5}     &       0.2187  &        0.025     &     8.898  &         0.000        &        0.171    &        0.267     \\\\\n",
       "\\textbf{ma.L1}     &      -1.3650  &        0.026     &   -51.633  &         0.000        &       -1.417    &       -1.313     \\\\\n",
       "\\textbf{ma.L2}     &       1.7738  &        0.028     &    62.991  &         0.000        &        1.719    &        1.829     \\\\\n",
       "\\textbf{ma.L3}     &      -1.5426  &        0.035     &   -44.557  &         0.000        &       -1.610    &       -1.475     \\\\\n",
       "\\textbf{ma.L4}     &       1.2743  &        0.024     &    52.746  &         0.000        &        1.227    &        1.322     \\\\\n",
       "\\textbf{ma.L5}     &      -0.5001  &        0.018     &   -27.238  &         0.000        &       -0.536    &       -0.464     \\\\\n",
       "\\textbf{sigma2}    &     1.47e+09  &        0.004     &  3.51e+11  &         0.000        &     1.47e+09    &     1.47e+09     \\\\\n",
       "\\bottomrule\n",
       "\\end{tabular}\n",
       "\\begin{tabular}{lclc}\n",
       "\\textbf{Ljung-Box (L1) (Q):}     & 0.49 & \\textbf{  Jarque-Bera (JB):  } & 746879.00  \\\\\n",
       "\\textbf{Prob(Q):}                & 0.49 & \\textbf{  Prob(JB):          } &    0.00    \\\\\n",
       "\\textbf{Heteroskedasticity (H):} & 0.92 & \\textbf{  Skew:              } &    1.50    \\\\\n",
       "\\textbf{Prob(H) (two-sided):}    & 0.12 & \\textbf{  Kurtosis:          } &   67.56    \\\\\n",
       "\\bottomrule\n",
       "\\end{tabular}\n",
       "%\\caption{SARIMAX Results}\n",
       "\\end{center}\n",
       "\n",
       "Warnings: \\newline\n",
       " [1] Covariance matrix calculated using the outer product of gradients (complex-step). \\newline\n",
       " [2] Covariance matrix is singular or near-singular, with condition number 5.92e+25. Standard errors may be unstable."
      ],
      "text/plain": [
       "<class 'statsmodels.iolib.summary.Summary'>\n",
       "\"\"\"\n",
       "                               SARIMAX Results                                \n",
       "==============================================================================\n",
       "Dep. Variable:                      y   No. Observations:                 4293\n",
       "Model:               SARIMAX(5, 1, 5)   Log Likelihood              -51102.163\n",
       "Date:                Fri, 01 Sep 2023   AIC                         102228.327\n",
       "Time:                        11:34:48   BIC                         102304.701\n",
       "Sample:                             0   HQIC                        102255.303\n",
       "                               - 4293                                         \n",
       "Covariance Type:                  opg                                         \n",
       "==============================================================================\n",
       "                 coef    std err          z      P>|z|      [0.025      0.975]\n",
       "------------------------------------------------------------------------------\n",
       "intercept    499.1954    431.958      1.156      0.248    -347.427    1345.818\n",
       "ar.L1          1.0201      0.027     37.754      0.000       0.967       1.073\n",
       "ar.L2         -1.6038      0.022    -71.488      0.000      -1.648      -1.560\n",
       "ar.L3          1.1100      0.038     29.488      0.000       1.036       1.184\n",
       "ar.L4         -1.1470      0.021    -54.799      0.000      -1.188      -1.106\n",
       "ar.L5          0.2187      0.025      8.898      0.000       0.171       0.267\n",
       "ma.L1         -1.3650      0.026    -51.633      0.000      -1.417      -1.313\n",
       "ma.L2          1.7738      0.028     62.991      0.000       1.719       1.829\n",
       "ma.L3         -1.5426      0.035    -44.557      0.000      -1.610      -1.475\n",
       "ma.L4          1.2743      0.024     52.746      0.000       1.227       1.322\n",
       "ma.L5         -0.5001      0.018    -27.238      0.000      -0.536      -0.464\n",
       "sigma2       1.47e+09      0.004   3.51e+11      0.000    1.47e+09    1.47e+09\n",
       "===================================================================================\n",
       "Ljung-Box (L1) (Q):                   0.49   Jarque-Bera (JB):            746879.00\n",
       "Prob(Q):                              0.49   Prob(JB):                         0.00\n",
       "Heteroskedasticity (H):               0.92   Skew:                             1.50\n",
       "Prob(H) (two-sided):                  0.12   Kurtosis:                        67.56\n",
       "===================================================================================\n",
       "\n",
       "Warnings:\n",
       "[1] Covariance matrix calculated using the outer product of gradients (complex-step).\n",
       "[2] Covariance matrix is singular or near-singular, with condition number 5.92e+25. Standard errors may be unstable.\n",
       "\"\"\""
      ]
     },
     "execution_count": 81,
     "metadata": {},
     "output_type": "execute_result"
    }
   ],
   "source": [
    "check_arima = auto_arima(csdf['Players'], trace=True, suppress_warnings=True)\n",
    "check_arima.summary()"
   ]
  },
  {
   "cell_type": "code",
   "execution_count": 82,
   "metadata": {},
   "outputs": [],
   "source": [
    "from sklearn.model_selection import train_test_split"
   ]
  },
  {
   "cell_type": "code",
   "execution_count": 83,
   "metadata": {},
   "outputs": [],
   "source": [
    "# X = csdf['DateTime']\n",
    "# y = csdf['Players']"
   ]
  },
  {
   "cell_type": "code",
   "execution_count": 84,
   "metadata": {},
   "outputs": [],
   "source": [
    "# X_train,X_test, y_train, y_test = train_test_split(X,y, test_size=0.2, random_state=42)\n",
    "\n",
    "# print(train.shape, test.shape)"
   ]
  },
  {
   "cell_type": "code",
   "execution_count": 85,
   "metadata": {},
   "outputs": [
    {
     "name": "stdout",
     "output_type": "stream",
     "text": [
      "(4293, 3)\n",
      "(4273, 3) (20, 3)\n"
     ]
    }
   ],
   "source": [
    "print(csdf.shape)\n",
    "train = csdf.iloc[:-20]\n",
    "test = csdf.iloc[-20:]\n",
    "print(train.shape, test.shape)"
   ]
  },
  {
   "cell_type": "code",
   "execution_count": 92,
   "metadata": {},
   "outputs": [
    {
     "data": {
      "text/html": [
       "<table class=\"simpletable\">\n",
       "<caption>SARIMAX Results</caption>\n",
       "<tr>\n",
       "  <th>Dep. Variable:</th>        <td>Players</td>     <th>  No. Observations:  </th>    <td>4273</td>   \n",
       "</tr>\n",
       "<tr>\n",
       "  <th>Model:</th>            <td>ARIMA(5, 1, 5)</td>  <th>  Log Likelihood     </th> <td>-50798.631</td>\n",
       "</tr>\n",
       "<tr>\n",
       "  <th>Date:</th>            <td>Fri, 01 Sep 2023</td> <th>  AIC                </th> <td>101619.262</td>\n",
       "</tr>\n",
       "<tr>\n",
       "  <th>Time:</th>                <td>11:38:14</td>     <th>  BIC                </th> <td>101689.220</td>\n",
       "</tr>\n",
       "<tr>\n",
       "  <th>Sample:</th>                  <td>0</td>        <th>  HQIC               </th> <td>101643.977</td>\n",
       "</tr>\n",
       "<tr>\n",
       "  <th></th>                      <td> - 4273</td>     <th>                     </th>      <td> </td>    \n",
       "</tr>\n",
       "<tr>\n",
       "  <th>Covariance Type:</th>        <td>opg</td>       <th>                     </th>      <td> </td>    \n",
       "</tr>\n",
       "</table>\n",
       "<table class=\"simpletable\">\n",
       "<tr>\n",
       "     <td></td>       <th>coef</th>     <th>std err</th>      <th>z</th>      <th>P>|z|</th>  <th>[0.025</th>    <th>0.975]</th>  \n",
       "</tr>\n",
       "<tr>\n",
       "  <th>ar.L1</th>  <td>    0.9759</td> <td>    0.026</td> <td>   38.153</td> <td> 0.000</td> <td>    0.926</td> <td>    1.026</td>\n",
       "</tr>\n",
       "<tr>\n",
       "  <th>ar.L2</th>  <td>   -1.5646</td> <td>    0.022</td> <td>  -70.906</td> <td> 0.000</td> <td>   -1.608</td> <td>   -1.521</td>\n",
       "</tr>\n",
       "<tr>\n",
       "  <th>ar.L3</th>  <td>    1.0397</td> <td>    0.036</td> <td>   28.820</td> <td> 0.000</td> <td>    0.969</td> <td>    1.110</td>\n",
       "</tr>\n",
       "<tr>\n",
       "  <th>ar.L4</th>  <td>   -1.1104</td> <td>    0.020</td> <td>  -54.868</td> <td> 0.000</td> <td>   -1.150</td> <td>   -1.071</td>\n",
       "</tr>\n",
       "<tr>\n",
       "  <th>ar.L5</th>  <td>    0.1760</td> <td>    0.023</td> <td>    7.549</td> <td> 0.000</td> <td>    0.130</td> <td>    0.222</td>\n",
       "</tr>\n",
       "<tr>\n",
       "  <th>ma.L1</th>  <td>   -1.3157</td> <td>    0.025</td> <td>  -52.188</td> <td> 0.000</td> <td>   -1.365</td> <td>   -1.266</td>\n",
       "</tr>\n",
       "<tr>\n",
       "  <th>ma.L2</th>  <td>    1.7279</td> <td>    0.028</td> <td>   62.273</td> <td> 0.000</td> <td>    1.674</td> <td>    1.782</td>\n",
       "</tr>\n",
       "<tr>\n",
       "  <th>ma.L3</th>  <td>   -1.4775</td> <td>    0.034</td> <td>  -43.044</td> <td> 0.000</td> <td>   -1.545</td> <td>   -1.410</td>\n",
       "</tr>\n",
       "<tr>\n",
       "  <th>ma.L4</th>  <td>    1.2432</td> <td>    0.024</td> <td>   52.011</td> <td> 0.000</td> <td>    1.196</td> <td>    1.290</td>\n",
       "</tr>\n",
       "<tr>\n",
       "  <th>ma.L5</th>  <td>   -0.4760</td> <td>    0.018</td> <td>  -26.084</td> <td> 0.000</td> <td>   -0.512</td> <td>   -0.440</td>\n",
       "</tr>\n",
       "<tr>\n",
       "  <th>sigma2</th> <td> 1.429e+09</td> <td>  6.4e-11</td> <td> 2.23e+19</td> <td> 0.000</td> <td> 1.43e+09</td> <td> 1.43e+09</td>\n",
       "</tr>\n",
       "</table>\n",
       "<table class=\"simpletable\">\n",
       "<tr>\n",
       "  <th>Ljung-Box (L1) (Q):</th>     <td>0.43</td> <th>  Jarque-Bera (JB):  </th> <td>771944.36</td>\n",
       "</tr>\n",
       "<tr>\n",
       "  <th>Prob(Q):</th>                <td>0.51</td> <th>  Prob(JB):          </th>   <td>0.00</td>   \n",
       "</tr>\n",
       "<tr>\n",
       "  <th>Heteroskedasticity (H):</th> <td>0.85</td> <th>  Skew:              </th>   <td>1.92</td>   \n",
       "</tr>\n",
       "<tr>\n",
       "  <th>Prob(H) (two-sided):</th>    <td>0.00</td> <th>  Kurtosis:          </th>   <td>68.74</td>  \n",
       "</tr>\n",
       "</table><br/><br/>Warnings:<br/>[1] Covariance matrix calculated using the outer product of gradients (complex-step).<br/>[2] Covariance matrix is singular or near-singular, with condition number 1.16e+34. Standard errors may be unstable."
      ],
      "text/latex": [
       "\\begin{center}\n",
       "\\begin{tabular}{lclc}\n",
       "\\toprule\n",
       "\\textbf{Dep. Variable:}          &     Players      & \\textbf{  No. Observations:  } &    4273     \\\\\n",
       "\\textbf{Model:}                  &  ARIMA(5, 1, 5)  & \\textbf{  Log Likelihood     } & -50798.631  \\\\\n",
       "\\textbf{Date:}                   & Fri, 01 Sep 2023 & \\textbf{  AIC                } & 101619.262  \\\\\n",
       "\\textbf{Time:}                   &     11:38:14     & \\textbf{  BIC                } & 101689.220  \\\\\n",
       "\\textbf{Sample:}                 &        0         & \\textbf{  HQIC               } & 101643.977  \\\\\n",
       "\\textbf{}                        &      - 4273      & \\textbf{                     } &             \\\\\n",
       "\\textbf{Covariance Type:}        &       opg        & \\textbf{                     } &             \\\\\n",
       "\\bottomrule\n",
       "\\end{tabular}\n",
       "\\begin{tabular}{lcccccc}\n",
       "                & \\textbf{coef} & \\textbf{std err} & \\textbf{z} & \\textbf{P$> |$z$|$} & \\textbf{[0.025} & \\textbf{0.975]}  \\\\\n",
       "\\midrule\n",
       "\\textbf{ar.L1}  &       0.9759  &        0.026     &    38.153  &         0.000        &        0.926    &        1.026     \\\\\n",
       "\\textbf{ar.L2}  &      -1.5646  &        0.022     &   -70.906  &         0.000        &       -1.608    &       -1.521     \\\\\n",
       "\\textbf{ar.L3}  &       1.0397  &        0.036     &    28.820  &         0.000        &        0.969    &        1.110     \\\\\n",
       "\\textbf{ar.L4}  &      -1.1104  &        0.020     &   -54.868  &         0.000        &       -1.150    &       -1.071     \\\\\n",
       "\\textbf{ar.L5}  &       0.1760  &        0.023     &     7.549  &         0.000        &        0.130    &        0.222     \\\\\n",
       "\\textbf{ma.L1}  &      -1.3157  &        0.025     &   -52.188  &         0.000        &       -1.365    &       -1.266     \\\\\n",
       "\\textbf{ma.L2}  &       1.7279  &        0.028     &    62.273  &         0.000        &        1.674    &        1.782     \\\\\n",
       "\\textbf{ma.L3}  &      -1.4775  &        0.034     &   -43.044  &         0.000        &       -1.545    &       -1.410     \\\\\n",
       "\\textbf{ma.L4}  &       1.2432  &        0.024     &    52.011  &         0.000        &        1.196    &        1.290     \\\\\n",
       "\\textbf{ma.L5}  &      -0.4760  &        0.018     &   -26.084  &         0.000        &       -0.512    &       -0.440     \\\\\n",
       "\\textbf{sigma2} &    1.429e+09  &      6.4e-11     &  2.23e+19  &         0.000        &     1.43e+09    &     1.43e+09     \\\\\n",
       "\\bottomrule\n",
       "\\end{tabular}\n",
       "\\begin{tabular}{lclc}\n",
       "\\textbf{Ljung-Box (L1) (Q):}     & 0.43 & \\textbf{  Jarque-Bera (JB):  } & 771944.36  \\\\\n",
       "\\textbf{Prob(Q):}                & 0.51 & \\textbf{  Prob(JB):          } &    0.00    \\\\\n",
       "\\textbf{Heteroskedasticity (H):} & 0.85 & \\textbf{  Skew:              } &    1.92    \\\\\n",
       "\\textbf{Prob(H) (two-sided):}    & 0.00 & \\textbf{  Kurtosis:          } &   68.74    \\\\\n",
       "\\bottomrule\n",
       "\\end{tabular}\n",
       "%\\caption{SARIMAX Results}\n",
       "\\end{center}\n",
       "\n",
       "Warnings: \\newline\n",
       " [1] Covariance matrix calculated using the outer product of gradients (complex-step). \\newline\n",
       " [2] Covariance matrix is singular or near-singular, with condition number 1.16e+34. Standard errors may be unstable."
      ],
      "text/plain": [
       "<class 'statsmodels.iolib.summary.Summary'>\n",
       "\"\"\"\n",
       "                               SARIMAX Results                                \n",
       "==============================================================================\n",
       "Dep. Variable:                Players   No. Observations:                 4273\n",
       "Model:                 ARIMA(5, 1, 5)   Log Likelihood              -50798.631\n",
       "Date:                Fri, 01 Sep 2023   AIC                         101619.262\n",
       "Time:                        11:38:14   BIC                         101689.220\n",
       "Sample:                             0   HQIC                        101643.977\n",
       "                               - 4273                                         \n",
       "Covariance Type:                  opg                                         \n",
       "==============================================================================\n",
       "                 coef    std err          z      P>|z|      [0.025      0.975]\n",
       "------------------------------------------------------------------------------\n",
       "ar.L1          0.9759      0.026     38.153      0.000       0.926       1.026\n",
       "ar.L2         -1.5646      0.022    -70.906      0.000      -1.608      -1.521\n",
       "ar.L3          1.0397      0.036     28.820      0.000       0.969       1.110\n",
       "ar.L4         -1.1104      0.020    -54.868      0.000      -1.150      -1.071\n",
       "ar.L5          0.1760      0.023      7.549      0.000       0.130       0.222\n",
       "ma.L1         -1.3157      0.025    -52.188      0.000      -1.365      -1.266\n",
       "ma.L2          1.7279      0.028     62.273      0.000       1.674       1.782\n",
       "ma.L3         -1.4775      0.034    -43.044      0.000      -1.545      -1.410\n",
       "ma.L4          1.2432      0.024     52.011      0.000       1.196       1.290\n",
       "ma.L5         -0.4760      0.018    -26.084      0.000      -0.512      -0.440\n",
       "sigma2      1.429e+09    6.4e-11   2.23e+19      0.000    1.43e+09    1.43e+09\n",
       "===================================================================================\n",
       "Ljung-Box (L1) (Q):                   0.43   Jarque-Bera (JB):            771944.36\n",
       "Prob(Q):                              0.51   Prob(JB):                         0.00\n",
       "Heteroskedasticity (H):               0.85   Skew:                             1.92\n",
       "Prob(H) (two-sided):                  0.00   Kurtosis:                        68.74\n",
       "===================================================================================\n",
       "\n",
       "Warnings:\n",
       "[1] Covariance matrix calculated using the outer product of gradients (complex-step).\n",
       "[2] Covariance matrix is singular or near-singular, with condition number 1.16e+34. Standard errors may be unstable.\n",
       "\"\"\""
      ]
     },
     "execution_count": 92,
     "metadata": {},
     "output_type": "execute_result"
    }
   ],
   "source": [
    "model= ARIMA(train['Players'], order=(5,1,5))\n",
    "results = model.fit()\n",
    "results.summary()"
   ]
  },
  {
   "cell_type": "code",
   "execution_count": 98,
   "metadata": {},
   "outputs": [
    {
     "ename": "TypeError",
     "evalue": "predict() missing 1 required positional argument: 'params'",
     "output_type": "error",
     "traceback": [
      "\u001b[1;31m---------------------------------------------------------------------------\u001b[0m",
      "\u001b[1;31mTypeError\u001b[0m                                 Traceback (most recent call last)",
      "\u001b[1;32md:\\SEMESTER 5\\IS MRSI\\csgomrsi\\csgo-countplayer\\code.ipynb Cell 25\u001b[0m in \u001b[0;36m<cell line: 3>\u001b[1;34m()\u001b[0m\n\u001b[0;32m      <a href='vscode-notebook-cell:/d%3A/SEMESTER%205/IS%20MRSI/csgomrsi/csgo-countplayer/code.ipynb#X62sZmlsZQ%3D%3D?line=0'>1</a>\u001b[0m start \u001b[39m=\u001b[39m \u001b[39mlen\u001b[39m(train)\n\u001b[0;32m      <a href='vscode-notebook-cell:/d%3A/SEMESTER%205/IS%20MRSI/csgomrsi/csgo-countplayer/code.ipynb#X62sZmlsZQ%3D%3D?line=1'>2</a>\u001b[0m end\u001b[39m=\u001b[39m\u001b[39mlen\u001b[39m(train)\u001b[39m+\u001b[39m\u001b[39mlen\u001b[39m(test)\u001b[39m-\u001b[39m\u001b[39m1\u001b[39m\n\u001b[1;32m----> <a href='vscode-notebook-cell:/d%3A/SEMESTER%205/IS%20MRSI/csgomrsi/csgo-countplayer/code.ipynb#X62sZmlsZQ%3D%3D?line=2'>3</a>\u001b[0m pred\u001b[39m=\u001b[39mmodel\u001b[39m.\u001b[39;49mpredict(start\u001b[39m=\u001b[39;49mstart, end\u001b[39m=\u001b[39;49mend,typ\u001b[39m=\u001b[39;49m\u001b[39m\"\u001b[39;49m\u001b[39mlevels\u001b[39;49m\u001b[39m\"\u001b[39;49m)\n\u001b[0;32m      <a href='vscode-notebook-cell:/d%3A/SEMESTER%205/IS%20MRSI/csgomrsi/csgo-countplayer/code.ipynb#X62sZmlsZQ%3D%3D?line=3'>4</a>\u001b[0m \u001b[39mprint\u001b[39m(pred)\n\u001b[0;32m      <a href='vscode-notebook-cell:/d%3A/SEMESTER%205/IS%20MRSI/csgomrsi/csgo-countplayer/code.ipynb#X62sZmlsZQ%3D%3D?line=4'>5</a>\u001b[0m pred\u001b[39m.\u001b[39mindex\u001b[39m=\u001b[39mcsdf\u001b[39m.\u001b[39mindex[start:end\u001b[39m+\u001b[39m\u001b[39m1\u001b[39m]\n",
      "\u001b[1;31mTypeError\u001b[0m: predict() missing 1 required positional argument: 'params'"
     ]
    }
   ],
   "source": [
    "start = len(train)\n",
    "end=len(train)+len(test)-1\n",
    "pred=model.predict(start=start, end=end,typ=\"levels\")\n",
    "print(pred)\n",
    "pred.index=csdf.index[start:end+1]\n",
    "print(pred)"
   ]
  },
  {
   "cell_type": "code",
   "execution_count": null,
   "metadata": {},
   "outputs": [],
   "source": []
  }
 ],
 "metadata": {
  "kernelspec": {
   "display_name": "base",
   "language": "python",
   "name": "python3"
  },
  "language_info": {
   "codemirror_mode": {
    "name": "ipython",
    "version": 3
   },
   "file_extension": ".py",
   "mimetype": "text/x-python",
   "name": "python",
   "nbconvert_exporter": "python",
   "pygments_lexer": "ipython3",
   "version": "3.9.12"
  },
  "orig_nbformat": 4
 },
 "nbformat": 4,
 "nbformat_minor": 2
}
